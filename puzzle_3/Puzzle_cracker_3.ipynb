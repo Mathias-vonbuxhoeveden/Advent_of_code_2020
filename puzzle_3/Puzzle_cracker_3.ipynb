{
 "cells": [
  {
   "cell_type": "code",
   "execution_count": 150,
   "metadata": {},
   "outputs": [],
   "source": [
    "import pandas as pd\n",
    "import numpy as np"
   ]
  },
  {
   "cell_type": "code",
   "execution_count": 151,
   "metadata": {},
   "outputs": [],
   "source": [
    "#Part 1"
   ]
  },
  {
   "cell_type": "code",
   "execution_count": 152,
   "metadata": {},
   "outputs": [],
   "source": [
    "def get_position_to_check(row_number, steps_right):\n",
    "    \n",
    "    row_number = row_number*steps_right\n",
    "    col_position = row_number%31\n",
    "    \n",
    "    return col_position"
   ]
  },
  {
   "cell_type": "code",
   "execution_count": 153,
   "metadata": {},
   "outputs": [],
   "source": [
    "def tag_trees(input_string, position):\n",
    "    \n",
    "    character_at_position = input_string[position]\n",
    "    \n",
    "    if character_at_position == '#':\n",
    "        \n",
    "        return 1\n",
    "    \n",
    "    else:\n",
    "        \n",
    "        return 0  "
   ]
  },
  {
   "cell_type": "code",
   "execution_count": 154,
   "metadata": {},
   "outputs": [],
   "source": [
    "df = pd.read_csv('puzzle_input.csv', header = None)"
   ]
  },
  {
   "cell_type": "code",
   "execution_count": 155,
   "metadata": {},
   "outputs": [],
   "source": [
    "df.columns = ['data']"
   ]
  },
  {
   "cell_type": "code",
   "execution_count": 156,
   "metadata": {},
   "outputs": [],
   "source": [
    "input_data = df.data"
   ]
  },
  {
   "cell_type": "code",
   "execution_count": 157,
   "metadata": {
    "scrolled": false
   },
   "outputs": [],
   "source": [
    "tree_counter = []\n",
    "j = 0\n",
    "\n",
    "for input_row in input_data:\n",
    "    \n",
    "    col_position = get_position_to_check(j, steps_right = 3)\n",
    "    tree = tag_trees(input_string = input_row, position = col_position)\n",
    "    tree_counter.append(tree)\n",
    "    j = j + 1 "
   ]
  },
  {
   "cell_type": "code",
   "execution_count": 158,
   "metadata": {},
   "outputs": [
    {
     "name": "stdout",
     "output_type": "stream",
     "text": [
      "There are 145 trees in way.\n"
     ]
    }
   ],
   "source": [
    "print(\"There are {} trees in way.\".format(np.sum(tree_counter)))"
   ]
  },
  {
   "cell_type": "code",
   "execution_count": 159,
   "metadata": {},
   "outputs": [],
   "source": [
    "#Part 2"
   ]
  },
  {
   "cell_type": "code",
   "execution_count": 178,
   "metadata": {},
   "outputs": [],
   "source": [
    "tree_counter = []\n",
    "j = 0\n",
    "\n",
    "for input_row in input_data:\n",
    "    \n",
    "    col_position = get_position_to_check(j, steps_right = 1)\n",
    "    tree = tag_trees(input_string = input_row, position = col_position)\n",
    "    tree_counter.append(tree)\n",
    "    j = j + 1 \n",
    "    "
   ]
  },
  {
   "cell_type": "code",
   "execution_count": 179,
   "metadata": {},
   "outputs": [
    {
     "name": "stdout",
     "output_type": "stream",
     "text": [
      "There are 88 trees in way.\n"
     ]
    }
   ],
   "source": [
    "print(\"There are {} trees in way.\".format(np.sum(tree_counter)))"
   ]
  },
  {
   "cell_type": "code",
   "execution_count": 180,
   "metadata": {},
   "outputs": [],
   "source": [
    "tree_counter = []\n",
    "j = 0\n",
    "\n",
    "\n",
    "for input_row in input_data:\n",
    "    \n",
    "    col_position = get_position_to_check(j, steps_right = 5)\n",
    "    tree = tag_trees(input_string = input_row, position = col_position)\n",
    "    tree_counter.append(tree)\n",
    "    j = j + 1 "
   ]
  },
  {
   "cell_type": "code",
   "execution_count": 181,
   "metadata": {},
   "outputs": [
    {
     "name": "stdout",
     "output_type": "stream",
     "text": [
      "There are 71 trees in way.\n"
     ]
    }
   ],
   "source": [
    "print(\"There are {} trees in way.\".format(np.sum(tree_counter)))"
   ]
  },
  {
   "cell_type": "code",
   "execution_count": 182,
   "metadata": {},
   "outputs": [],
   "source": [
    "tree_counter = []\n",
    "j = 0\n",
    "\n",
    "\n",
    "for input_row in input_data:\n",
    "    \n",
    "    col_position = get_position_to_check(j, steps_right = 7)\n",
    "    tree = tag_trees(input_string = input_row, position = col_position)\n",
    "    tree_counter.append(tree)\n",
    "    j = j + 1 "
   ]
  },
  {
   "cell_type": "code",
   "execution_count": 165,
   "metadata": {
    "scrolled": true
   },
   "outputs": [
    {
     "name": "stdout",
     "output_type": "stream",
     "text": [
      "There are 90 trees in way.\n"
     ]
    }
   ],
   "source": [
    "print(\"There are {} trees in way.\".format(np.sum(tree_counter)))"
   ]
  },
  {
   "cell_type": "code",
   "execution_count": 197,
   "metadata": {},
   "outputs": [],
   "source": [
    "tree_counter = []\n",
    "j = 0\n",
    "\n",
    "for i, input_row in enumerate(input_data):\n",
    "    \n",
    "    if i%2 == 0:\n",
    "        col_position = get_position_to_check(j, steps_right = 1)\n",
    "        tree = tag_trees(input_string = input_row, position = col_position)\n",
    "        tree_counter.append(tree)\n",
    "        j = j + 1\n",
    "        \n",
    "    else:\n",
    "        \n",
    "        pass\n",
    "    \n",
    "    "
   ]
  },
  {
   "cell_type": "code",
   "execution_count": 198,
   "metadata": {
    "scrolled": false
   },
   "outputs": [
    {
     "name": "stdout",
     "output_type": "stream",
     "text": [
      "There are 42 trees in way.\n"
     ]
    }
   ],
   "source": [
    "print(\"There are {} trees in way.\".format(np.sum(tree_counter)))"
   ]
  },
  {
   "cell_type": "code",
   "execution_count": 200,
   "metadata": {},
   "outputs": [
    {
     "data": {
      "text/plain": [
       "3424528800"
      ]
     },
     "execution_count": 200,
     "metadata": {},
     "output_type": "execute_result"
    }
   ],
   "source": [
    "print(\"The product is {}\".format(42*90*71*88*145))"
   ]
  },
  {
   "cell_type": "code",
   "execution_count": null,
   "metadata": {},
   "outputs": [],
   "source": []
  },
  {
   "cell_type": "code",
   "execution_count": null,
   "metadata": {},
   "outputs": [],
   "source": []
  }
 ],
 "metadata": {
  "kernelspec": {
   "display_name": "Python 3",
   "language": "python",
   "name": "python3"
  },
  "language_info": {
   "codemirror_mode": {
    "name": "ipython",
    "version": 3
   },
   "file_extension": ".py",
   "mimetype": "text/x-python",
   "name": "python",
   "nbconvert_exporter": "python",
   "pygments_lexer": "ipython3",
   "version": "3.6.0"
  }
 },
 "nbformat": 4,
 "nbformat_minor": 2
}
