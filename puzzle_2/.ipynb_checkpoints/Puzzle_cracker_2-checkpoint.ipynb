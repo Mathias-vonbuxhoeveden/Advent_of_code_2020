{
 "cells": [
  {
   "cell_type": "code",
   "execution_count": 135,
   "metadata": {},
   "outputs": [],
   "source": [
    "import pandas as pd\n",
    "import numpy as np"
   ]
  },
  {
   "cell_type": "code",
   "execution_count": 136,
   "metadata": {},
   "outputs": [],
   "source": [
    "df = pd.read_csv('input_data_test.csv', header = None)"
   ]
  },
  {
   "cell_type": "code",
   "execution_count": 137,
   "metadata": {},
   "outputs": [],
   "source": [
    "df.columns = ['data']"
   ]
  },
  {
   "cell_type": "code",
   "execution_count": 138,
   "metadata": {
    "scrolled": false
   },
   "outputs": [],
   "source": [
    "input_list = df.data.tolist()"
   ]
  },
  {
   "cell_type": "code",
   "execution_count": 139,
   "metadata": {},
   "outputs": [],
   "source": [
    "def condition_parser(input_string):\n",
    "    \n",
    "    input_string = input_string.replace('-',' ')  \n",
    "    input_string = input_string.split()\n",
    "    min_occurence = int(input_string[0])\n",
    "    max_occurence = int(input_string[1])\n",
    "    target_letter = input_string[2]\n",
    "    \n",
    "    return (target_letter, min_occurence, max_occurence)   "
   ]
  },
  {
   "cell_type": "code",
   "execution_count": 140,
   "metadata": {},
   "outputs": [],
   "source": [
    "def check_if_condition_is_met(input_string, parsed_condition):\n",
    "    \n",
    "    target_letter = parsed_condition[0]\n",
    "    min_occurence = parsed_condition[1]\n",
    "    max_occurence = parsed_condition[2]\n",
    "    \n",
    "    occurences_in_string = input_string.count(target_letter)\n",
    "    \n",
    "    mask1 = occurences_in_string >= min_occurence\n",
    "    mask2 = occurences_in_string <= max_occurence\n",
    "    mask3 = (mask1 & mask2)\n",
    "    \n",
    "    if mask3:\n",
    "        \n",
    "        return 1\n",
    "    \n",
    "    else:\n",
    "        \n",
    "        return 0       "
   ]
  },
  {
   "cell_type": "code",
   "execution_count": 141,
   "metadata": {},
   "outputs": [],
   "source": [
    "def password_tester(input_string):\n",
    "    \n",
    "    input_string = input_string.split(':')\n",
    "    condition = input_string[0]\n",
    "    password = input_string[1].strip()\n",
    "    \n",
    "    parsed_condition = condition_parser(input_string = condition)\n",
    "    condition_met = check_if_condition_is_met(input_string = password, parsed_condition = parsed_condition)\n",
    "    \n",
    "    return condition_met   "
   ]
  },
  {
   "cell_type": "code",
   "execution_count": 142,
   "metadata": {},
   "outputs": [],
   "source": [
    "result = []\n",
    "\n",
    "for input_data in input_list:\n",
    "    \n",
    "    result.append(password_tester(input_string = input_data))    "
   ]
  },
  {
   "cell_type": "code",
   "execution_count": 143,
   "metadata": {},
   "outputs": [],
   "source": [
    "valid_passwords = np.sum(result)"
   ]
  },
  {
   "cell_type": "code",
   "execution_count": 144,
   "metadata": {},
   "outputs": [
    {
     "name": "stdout",
     "output_type": "stream",
     "text": [
      "There are 393 valid passwords in the input-list!\n"
     ]
    }
   ],
   "source": [
    "print(\"There are {} valid passwords in the input-list!\".format(valid_passwords))"
   ]
  },
  {
   "cell_type": "code",
   "execution_count": 145,
   "metadata": {},
   "outputs": [],
   "source": [
    "#Second part of puzzle!"
   ]
  },
  {
   "cell_type": "code",
   "execution_count": 146,
   "metadata": {},
   "outputs": [],
   "source": [
    "def modified_condition_checker(input_string, parsed_condition):\n",
    "    \n",
    "    target_letter = parsed_condition[0]\n",
    "    first_spot = parsed_condition[1]\n",
    "    second_spot = parsed_condition[2]\n",
    "    \n",
    "    target_occurences = []\n",
    "\n",
    "    for i, letter in enumerate(input_string):\n",
    "    \n",
    "        if letter == target_letter:\n",
    "            \n",
    "            postion = i + 1 \n",
    "            \n",
    "            if (postion == first_spot) | (postion == second_spot):\n",
    "        \n",
    "                target_occurences.append(1)\n",
    "        \n",
    "        else:\n",
    "        \n",
    "            target_occurences.append(0)\n",
    "            \n",
    "            \n",
    "    result = np.sum(target_occurences)\n",
    "    \n",
    "    if result == 1:\n",
    "        \n",
    "        return 1\n",
    "    \n",
    "    else:\n",
    "        \n",
    "        return 0\n",
    "    "
   ]
  },
  {
   "cell_type": "code",
   "execution_count": 147,
   "metadata": {},
   "outputs": [],
   "source": [
    "def second_password_tester(input_string):\n",
    "    \n",
    "    input_string = input_string.split(':')\n",
    "    condition = input_string[0]\n",
    "    password = input_string[1].strip()\n",
    "    \n",
    "    parsed_condition = condition_parser(input_string = condition)\n",
    "    condition_met = modified_condition_checker(input_string = password, parsed_condition = parsed_condition)\n",
    "    \n",
    "    return condition_met   "
   ]
  },
  {
   "cell_type": "code",
   "execution_count": 151,
   "metadata": {},
   "outputs": [],
   "source": [
    "result = []\n",
    "\n",
    "for input_data in input_list:\n",
    "    \n",
    "    result.append(second_password_tester(input_string = input_data)) "
   ]
  },
  {
   "cell_type": "code",
   "execution_count": 152,
   "metadata": {},
   "outputs": [],
   "source": [
    "valid_passwords = np.sum(result)"
   ]
  },
  {
   "cell_type": "code",
   "execution_count": 153,
   "metadata": {},
   "outputs": [
    {
     "name": "stdout",
     "output_type": "stream",
     "text": [
      "There are 690 valid passwords in the input-list!\n"
     ]
    }
   ],
   "source": [
    "print(\"There are {} valid passwords in the input-list!\".format(valid_passwords))"
   ]
  },
  {
   "cell_type": "code",
   "execution_count": null,
   "metadata": {},
   "outputs": [],
   "source": []
  },
  {
   "cell_type": "code",
   "execution_count": null,
   "metadata": {},
   "outputs": [],
   "source": []
  },
  {
   "cell_type": "code",
   "execution_count": null,
   "metadata": {},
   "outputs": [],
   "source": []
  },
  {
   "cell_type": "code",
   "execution_count": null,
   "metadata": {},
   "outputs": [],
   "source": []
  }
 ],
 "metadata": {
  "kernelspec": {
   "display_name": "Python 3",
   "language": "python",
   "name": "python3"
  },
  "language_info": {
   "codemirror_mode": {
    "name": "ipython",
    "version": 3
   },
   "file_extension": ".py",
   "mimetype": "text/x-python",
   "name": "python",
   "nbconvert_exporter": "python",
   "pygments_lexer": "ipython3",
   "version": "3.6.0"
  }
 },
 "nbformat": 4,
 "nbformat_minor": 2
}
