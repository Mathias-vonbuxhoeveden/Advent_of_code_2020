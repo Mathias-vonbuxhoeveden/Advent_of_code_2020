{
 "cells": [
  {
   "cell_type": "code",
   "execution_count": 216,
   "metadata": {},
   "outputs": [],
   "source": [
    "import pandas as pd\n",
    "import numpy as np"
   ]
  },
  {
   "cell_type": "code",
   "execution_count": 217,
   "metadata": {},
   "outputs": [],
   "source": [
    "#Part 1"
   ]
  },
  {
   "cell_type": "code",
   "execution_count": 218,
   "metadata": {},
   "outputs": [],
   "source": [
    "def string_parser(input_string):\n",
    "    \n",
    "    master_bag = input_string.split('contain')[0]\n",
    "    master_bag = master_bag.replace('bags','').strip()\n",
    "    \n",
    "    contined_bags = input_string.split('contain')[1].strip()\n",
    "    contined_bags = contined_bags.replace('bags','')\n",
    "    contined_bags = contined_bags.replace('bag','')\n",
    "    contined_bags = contined_bags.replace('.','')\n",
    "    contined_bags = contined_bags.split(',')\n",
    "    \n",
    "    contained_bag_list = []\n",
    "\n",
    "    for strings in contined_bags:\n",
    "        \n",
    "        result = ''.join([i for i in strings if not i.isdigit()])\n",
    "        contained_bag_list.append(result.strip())\n",
    "\n",
    "    return master_bag, contained_bag_list  "
   ]
  },
  {
   "cell_type": "code",
   "execution_count": 219,
   "metadata": {},
   "outputs": [],
   "source": [
    "def load_data():\n",
    "    \n",
    "    lines = open('input_data.csv').read().splitlines()\n",
    "    data_dict = {}\n",
    "    \n",
    "    for data in lines:\n",
    "    \n",
    "        master_bag, contained_bag_list = string_parser(input_string = data)\n",
    "        data_dict[master_bag] = contained_bag_list\n",
    "    \n",
    "    return data_dict"
   ]
  },
  {
   "cell_type": "code",
   "execution_count": 220,
   "metadata": {},
   "outputs": [],
   "source": [
    "data_dict = load_data()"
   ]
  },
  {
   "cell_type": "code",
   "execution_count": 221,
   "metadata": {},
   "outputs": [],
   "source": [
    "def check_if_it_can_hold_gold(check_color, data_dict):\n",
    "    \n",
    "    \"\"\"Input colors that target color can hold. Returns 1 if it can hold gold 0 otherwise.\"\"\" \n",
    "    \n",
    "    #Base-case.    \n",
    " \n",
    "    if check_color == [\"no other\"]:\n",
    "    \n",
    "        return 0 \n",
    "    \n",
    "    elif \"shiny gold\" in check_color:\n",
    "        \n",
    "        return 1\n",
    "    \n",
    "    #Recursive case.\n",
    "    \n",
    "    new_list = []\n",
    "    \n",
    "    for color in check_color:\n",
    "        \n",
    "        if color == \"no other\":\n",
    "            \n",
    "            new_list.append(\"no other\")\n",
    "                            \n",
    "        else:\n",
    "              \n",
    "            new_list = new_list + data_dict[color]\n",
    "                            \n",
    "    check_color = list(set(new_list))\n",
    "        \n",
    "    return check_if_it_can_hold_gold(check_color, data_dict)"
   ]
  },
  {
   "cell_type": "code",
   "execution_count": 222,
   "metadata": {},
   "outputs": [],
   "source": [
    "data_dict = load_data()"
   ]
  },
  {
   "cell_type": "code",
   "execution_count": 223,
   "metadata": {},
   "outputs": [],
   "source": [
    "result = []\n",
    "\n",
    "for color in data_dict:\n",
    "    result.append(check_if_it_can_hold_gold(check_color = data_dict[color], data_dict = data_dict))"
   ]
  },
  {
   "cell_type": "code",
   "execution_count": 224,
   "metadata": {
    "scrolled": true
   },
   "outputs": [
    {
     "name": "stdout",
     "output_type": "stream",
     "text": [
      "There are 335 that can hold shiny gold.\n"
     ]
    }
   ],
   "source": [
    "print(\"There are {} that can hold shiny gold.\".format(np.sum(result)))"
   ]
  },
  {
   "cell_type": "code",
   "execution_count": 225,
   "metadata": {},
   "outputs": [],
   "source": [
    "#Part 2"
   ]
  },
  {
   "cell_type": "code",
   "execution_count": 226,
   "metadata": {},
   "outputs": [],
   "source": [
    "def second_string_parser(input_string):\n",
    "    \n",
    "    master_bag = input_string.split('contain')[0]\n",
    "    master_bag = master_bag.replace('bags','').strip()\n",
    "    \n",
    "    contined_bags = input_string.split('contain')[1].strip()\n",
    "    contined_bags = contined_bags.replace('bags','')\n",
    "    contined_bags = contined_bags.replace('bag','')\n",
    "    contined_bags = contined_bags.replace('.','')\n",
    "    contined_bags = contined_bags.split(',')\n",
    "    contined_bags = [x.strip() for x in contined_bags]\n",
    "\n",
    "    return master_bag, contined_bags"
   ]
  },
  {
   "cell_type": "code",
   "execution_count": 227,
   "metadata": {},
   "outputs": [],
   "source": [
    "def second_load_data_function():\n",
    "    \n",
    "    lines = open('input_data.csv').read().splitlines()\n",
    "    data_dict = {}\n",
    "    \n",
    "    for data in lines:\n",
    "    \n",
    "        master_bag, contained_bag_list = second_string_parser(input_string = data)\n",
    "        data_dict[master_bag] = contained_bag_list\n",
    "    \n",
    "    return data_dict"
   ]
  },
  {
   "cell_type": "code",
   "execution_count": 228,
   "metadata": {},
   "outputs": [],
   "source": [
    "def bag_counter(check_color, data_dict, sum_at_layer):\n",
    "    \n",
    "    #Count number of bags found on this layer!\n",
    "    \n",
    "    bag_count = []\n",
    "    \n",
    "    for bag in check_color:\n",
    "\n",
    "        bag_count.append(int(bag.split(' ')[0]))\n",
    "        \n",
    "    sum_at_layer += sum(bag_count)    \n",
    "    \n",
    "    #Unpack new number of bags found!\n",
    "    \n",
    "    next_bag_layer = []\n",
    "    \n",
    "    for j, bag in enumerate(check_color):\n",
    "        \n",
    "        bag_name = ''.join([i for i in bag if not i.isdigit()]).strip()      \n",
    "        new_bags = data_dict[bag_name]\n",
    "        \n",
    "        for new_bag in new_bags:\n",
    "            \n",
    "            if new_bag == 'no other':\n",
    "                \n",
    "                pass\n",
    "            \n",
    "            else:\n",
    "            \n",
    "                for char in new_bag:\n",
    "                \n",
    "                    if char.isdigit():\n",
    "                    \n",
    "                        new_bag = new_bag.replace(char, str(int(char)*bag_count[j]))\n",
    "            \n",
    "                next_bag_layer.append(new_bag)      \n",
    "        \n",
    "        \n",
    "    #Break if no new bags found!\n",
    "    \n",
    "    if not next_bag_layer:\n",
    "        \n",
    "        return sum_at_layer\n",
    "    \n",
    "    #Recursive step!\n",
    "    \n",
    "    check_color = next_bag_layer\n",
    "    \n",
    "    return bag_counter(check_color = check_color, data_dict = data_dict, sum_at_layer = sum_at_layer)"
   ]
  },
  {
   "cell_type": "code",
   "execution_count": 229,
   "metadata": {},
   "outputs": [],
   "source": [
    "data_dict = second_load_data_function()"
   ]
  },
  {
   "cell_type": "code",
   "execution_count": 230,
   "metadata": {},
   "outputs": [],
   "source": [
    "number_of_bags = bag_counter(check_color = data_dict['shiny gold'], data_dict = data_dict, sum_at_layer = 0)"
   ]
  },
  {
   "cell_type": "code",
   "execution_count": 231,
   "metadata": {
    "scrolled": true
   },
   "outputs": [
    {
     "name": "stdout",
     "output_type": "stream",
     "text": [
      "The shiny gold bag contains 2431 other bags\n"
     ]
    }
   ],
   "source": [
    "print(\"The shiny gold bag contains {} other bags\".format(number_of_bags))"
   ]
  }
 ],
 "metadata": {
  "kernelspec": {
   "display_name": "Python 3",
   "language": "python",
   "name": "python3"
  },
  "language_info": {
   "codemirror_mode": {
    "name": "ipython",
    "version": 3
   },
   "file_extension": ".py",
   "mimetype": "text/x-python",
   "name": "python",
   "nbconvert_exporter": "python",
   "pygments_lexer": "ipython3",
   "version": "3.6.0"
  }
 },
 "nbformat": 4,
 "nbformat_minor": 2
}
