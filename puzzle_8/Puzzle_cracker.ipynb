{
 "cells": [
  {
   "cell_type": "code",
   "execution_count": 731,
   "metadata": {},
   "outputs": [],
   "source": [
    "import pandas as pd\n",
    "import numpy as np"
   ]
  },
  {
   "cell_type": "code",
   "execution_count": 358,
   "metadata": {},
   "outputs": [],
   "source": [
    "#Part 1, OOP-based solution"
   ]
  },
  {
   "cell_type": "code",
   "execution_count": 359,
   "metadata": {},
   "outputs": [],
   "source": [
    "def load_data():\n",
    "    \n",
    "    df = pd.read_csv('full_input_data.csv', header = None)\n",
    "    df.columns = ['data']\n",
    "    df = df.data.tolist()\n",
    "    \n",
    "    return df    "
   ]
  },
  {
   "cell_type": "code",
   "execution_count": 360,
   "metadata": {},
   "outputs": [],
   "source": [
    "class accumulator_counter:\n",
    "    \n",
    "    def __init__(self, data_list):\n",
    "        \n",
    "        self.data_list = data_list\n",
    "        self.counter = 0\n",
    "        self.accumulator = 0\n",
    "        self.checked_values = []\n",
    "        \n",
    "    def find_accumulator_sum_before_repititions(self):\n",
    "        \n",
    "        \n",
    "        while True:\n",
    "            \n",
    "            #Extract next element in list!\n",
    "            \n",
    "            target_data = self.data_list[self.counter]\n",
    "            \n",
    "            #Check if this element has been checked before!\n",
    "            \n",
    "            \n",
    "            if self.counter in self.checked_values: \n",
    "            \n",
    "                break\n",
    "                \n",
    "            else:\n",
    "                \n",
    "                self.checked_values.append(self.counter)  \n",
    "                \n",
    "            if (target_data[0:3] == \"acc\") & (target_data.split(' ')[1][0] == '+'):                       \n",
    "                                        \n",
    "                self.accumulator += int(target_data.split(' ')[1][1:])\n",
    "                self.counter += 1\n",
    "            \n",
    "            elif (target_data[0:3] == \"acc\") & (target_data.split(' ')[1][0] == '-'):                    \n",
    "                  \n",
    "                self.accumulator -= int(target_data.split(' ')[1][1:])\n",
    "                self.counter = self.counter + 1\n",
    "            \n",
    "            elif (target_data[0:3] == \"jmp\") & (target_data.split(' ')[1][0] == '+'):                   \n",
    "\n",
    "                self.counter += int(target_data.split(' ')[1][1:])\n",
    "            \n",
    "            elif (target_data[0:3] == \"jmp\") & (target_data.split(' ')[1][0] == '-'):\n",
    "\n",
    "                self.counter -= int(target_data.split(' ')[1][1:])\n",
    "            else:\n",
    "                    \n",
    "                self.counter += 1       \n"
   ]
  },
  {
   "cell_type": "code",
   "execution_count": 361,
   "metadata": {},
   "outputs": [],
   "source": [
    "df = load_data()"
   ]
  },
  {
   "cell_type": "code",
   "execution_count": 362,
   "metadata": {},
   "outputs": [],
   "source": [
    "counter_object = accumulator_counter(df)"
   ]
  },
  {
   "cell_type": "code",
   "execution_count": 363,
   "metadata": {},
   "outputs": [],
   "source": [
    "counter_object.find_accumulator_sum_before_repititions()"
   ]
  },
  {
   "cell_type": "code",
   "execution_count": 364,
   "metadata": {},
   "outputs": [
    {
     "name": "stdout",
     "output_type": "stream",
     "text": [
      "The value on the accumulator is: 1600\n"
     ]
    }
   ],
   "source": [
    "print(\"The value on the accumulator is: {}\".format(counter_object.accumulator))"
   ]
  },
  {
   "cell_type": "code",
   "execution_count": 365,
   "metadata": {},
   "outputs": [],
   "source": [
    "#Part 1, alternative solution via recursion"
   ]
  },
  {
   "cell_type": "code",
   "execution_count": 366,
   "metadata": {},
   "outputs": [],
   "source": [
    "def count_accmulator(df, position_to_check, previously_checked_positions, current_sum): \n",
    "    \n",
    "    \n",
    "    target_data = df[position_to_check]\n",
    "    \n",
    "    if position_to_check in previously_checked_positions:\n",
    "        \n",
    "        return current_sum\n",
    "    \n",
    "    else:   \n",
    "        \n",
    "        previously_checked_positions.append(position_to_check)\n",
    "        \n",
    "    action_typ = target_data[0:3]\n",
    "    action_direction = target_data.split()[1][0]\n",
    "    action_magnitude = int(target_data.split()[1][1:])\n",
    "        \n",
    "    if action_typ == 'acc':\n",
    "            \n",
    "        if action_direction == \"+\":\n",
    "                \n",
    "            current_sum = current_sum + action_magnitude\n",
    "            position_to_check = position_to_check + 1\n",
    "                \n",
    "        else:\n",
    "                \n",
    "            current_sum = current_sum - action_magnitude\n",
    "            position_to_check = position_to_check + 1\n",
    "            \n",
    "        \n",
    "    elif action_typ == 'jmp':\n",
    "            \n",
    "        if action_direction == \"+\":\n",
    "                \n",
    "            position_to_check = position_to_check + action_magnitude\n",
    "                \n",
    "        else:\n",
    "                \n",
    "            position_to_check = position_to_check - action_magnitude\n",
    "                \n",
    "    else:\n",
    "            \n",
    "        position_to_check = position_to_check + 1\n",
    "            \n",
    "            \n",
    "    return count_accmulator(df, position_to_check, previously_checked_positions, current_sum)"
   ]
  },
  {
   "cell_type": "code",
   "execution_count": 367,
   "metadata": {},
   "outputs": [],
   "source": [
    "df = load_data()"
   ]
  },
  {
   "cell_type": "code",
   "execution_count": 368,
   "metadata": {
    "scrolled": false
   },
   "outputs": [],
   "source": [
    "accumulator_count = count_accmulator(df = df, position_to_check = 0, previously_checked_positions = [], current_sum = 0)"
   ]
  },
  {
   "cell_type": "code",
   "execution_count": 369,
   "metadata": {
    "scrolled": true
   },
   "outputs": [
    {
     "name": "stdout",
     "output_type": "stream",
     "text": [
      "The value on the accumulator is: 1600\n"
     ]
    }
   ],
   "source": [
    "print(\"The value on the accumulator is: {}\".format(accumulator_count))"
   ]
  },
  {
   "cell_type": "code",
   "execution_count": 456,
   "metadata": {},
   "outputs": [],
   "source": [
    "#Part 2"
   ]
  },
  {
   "cell_type": "code",
   "execution_count": 695,
   "metadata": {},
   "outputs": [],
   "source": [
    "class modified_accumulator_counter:\n",
    "    \n",
    "    def __init__(self, data_list):\n",
    "        \n",
    "        self.data_list = data_list\n",
    "        self.counter = 0\n",
    "        self.accumulator = 0\n",
    "        self.checked_values = []\n",
    "        \n",
    "    def find_accumulator_sum_before_repititions(self):\n",
    "        \n",
    "        \n",
    "        while True:\n",
    "            \n",
    "            #Extract next element in list!\n",
    "            \n",
    "            try:\n",
    "            \n",
    "                target_data = self.data_list[self.counter]\n",
    "            \n",
    "            except:\n",
    "                \n",
    "                break\n",
    "            \n",
    "            #Check if this element has been checked before!            \n",
    "            \n",
    "            if self.counter in self.checked_values: \n",
    "            \n",
    "                break\n",
    "                \n",
    "            else:\n",
    "                \n",
    "                self.checked_values.append(self.counter)  \n",
    "                \n",
    "            if (target_data[0:3] == \"acc\") & (target_data.split(' ')[1][0] == '+'):                       \n",
    "                                        \n",
    "                self.accumulator += int(target_data.split(' ')[1][1:])\n",
    "                self.counter += 1\n",
    "            \n",
    "            elif (target_data[0:3] == \"acc\") & (target_data.split(' ')[1][0] == '-'):                    \n",
    "                  \n",
    "                self.accumulator -= int(target_data.split(' ')[1][1:])\n",
    "                self.counter = self.counter + 1\n",
    "            \n",
    "            elif (target_data[0:3] == \"jmp\") & (target_data.split(' ')[1][0] == '+'):                   \n",
    "\n",
    "                self.counter += int(target_data.split(' ')[1][1:])\n",
    "            \n",
    "            elif (target_data[0:3] == \"jmp\") & (target_data.split(' ')[1][0] == '-'):\n",
    "\n",
    "                self.counter -= int(target_data.split(' ')[1][1:])\n",
    "            else:\n",
    "                    \n",
    "                self.counter += 1       \n"
   ]
  },
  {
   "cell_type": "code",
   "execution_count": 696,
   "metadata": {},
   "outputs": [],
   "source": [
    "def check_if_list_is_finite(df):\n",
    "    \n",
    "    list_lenght = len(df)\n",
    "    list_tester = modified_accumulator_counter(df)\n",
    "    list_tester.find_accumulator_sum_before_repititions()\n",
    "\n",
    "    if list_tester.counter == list_lenght:\n",
    "        \n",
    "        return 1\n",
    "    \n",
    "    else:\n",
    "        \n",
    "        return 0"
   ]
  },
  {
   "cell_type": "code",
   "execution_count": 744,
   "metadata": {},
   "outputs": [],
   "source": [
    "def find_finite_list_by_changing_jmp(df):\n",
    "    \n",
    "    j = []\n",
    "\n",
    "    for x in df:\n",
    "    \n",
    "        if x[0:3] == \"jmp\":        \n",
    "       \n",
    "            new_list = []\n",
    "        \n",
    "            for i in range(len(df)):\n",
    "            \n",
    "                if df[i] == x:\n",
    "                \n",
    "                    new_list.append(\"nop\" + df[i][3:])\n",
    "            \n",
    "                else:\n",
    "                \n",
    "                    new_list.append(df[i])\n",
    "                \n",
    "            result = check_if_list_is_finite(df = new_list)\n",
    "    \n",
    "            if result == 1:\n",
    "        \n",
    "                return new_list\n",
    "    \n",
    "            else:\n",
    "        \n",
    "                pass"
   ]
  },
  {
   "cell_type": "code",
   "execution_count": 752,
   "metadata": {},
   "outputs": [],
   "source": [
    "df = load_data()"
   ]
  },
  {
   "cell_type": "code",
   "execution_count": 753,
   "metadata": {},
   "outputs": [],
   "source": [
    "finite_list = find_finite_list_by_changing_jmp(df = df)"
   ]
  },
  {
   "cell_type": "code",
   "execution_count": 754,
   "metadata": {},
   "outputs": [],
   "source": [
    "counter_object = modified_accumulator_counter(finite_list)"
   ]
  },
  {
   "cell_type": "code",
   "execution_count": 758,
   "metadata": {},
   "outputs": [],
   "source": [
    "counter_object.find_accumulator_sum_before_repititions()"
   ]
  },
  {
   "cell_type": "code",
   "execution_count": 762,
   "metadata": {},
   "outputs": [
    {
     "name": "stdout",
     "output_type": "stream",
     "text": [
      "The new count is: 1543\n"
     ]
    }
   ],
   "source": [
    "print(\"The new count is: {}\".format(counter_object.accumulator))"
   ]
  }
 ],
 "metadata": {
  "kernelspec": {
   "display_name": "Python 3",
   "language": "python",
   "name": "python3"
  },
  "language_info": {
   "codemirror_mode": {
    "name": "ipython",
    "version": 3
   },
   "file_extension": ".py",
   "mimetype": "text/x-python",
   "name": "python",
   "nbconvert_exporter": "python",
   "pygments_lexer": "ipython3",
   "version": "3.6.0"
  }
 },
 "nbformat": 4,
 "nbformat_minor": 2
}
