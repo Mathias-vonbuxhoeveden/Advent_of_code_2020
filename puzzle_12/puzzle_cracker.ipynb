{
 "cells": [
  {
   "cell_type": "code",
   "execution_count": 379,
   "metadata": {},
   "outputs": [],
   "source": [
    "import pandas as pd\n",
    "import numpy as np"
   ]
  },
  {
   "cell_type": "code",
   "execution_count": null,
   "metadata": {},
   "outputs": [],
   "source": [
    "#Part 1"
   ]
  },
  {
   "cell_type": "code",
   "execution_count": 380,
   "metadata": {},
   "outputs": [],
   "source": [
    "def load_data():\n",
    "    \n",
    "    df = pd.read_csv('input_data.csv', header = None)\n",
    "    df.columns = ['data']\n",
    "    df = df.data.tolist()\n",
    "    \n",
    "    return df"
   ]
  },
  {
   "cell_type": "code",
   "execution_count": 381,
   "metadata": {},
   "outputs": [],
   "source": [
    "class end_destination:\n",
    "    \n",
    "    def __init__(self, df):\n",
    "        \n",
    "        self.df = df\n",
    "        self.direction = 0\n",
    "        self.n = 0\n",
    "        self.e = 0\n",
    "        self.relevant_instruction = 0\n",
    "        \n",
    "        \n",
    "    def update_position(self):\n",
    "        \n",
    "        action = self.df[self.relevant_instruction]\n",
    "        instruction_type = action[0]\n",
    "        instruction_intesity = int(action[1:])\n",
    "        \n",
    "        if instruction_type == 'R':\n",
    "            \n",
    "            self.direction += instruction_intesity  \n",
    "            self.direction = self.direction%360\n",
    "            \n",
    "        elif instruction_type == 'L':\n",
    "            \n",
    "            self.direction -= instruction_intesity\n",
    "            self.direction = self.direction%360     \n",
    "            \n",
    "        elif instruction_type == 'F':\n",
    "            \n",
    "            if self.direction == 270:\n",
    "                \n",
    "                self.n += instruction_intesity\n",
    "            \n",
    "            elif self.direction == 90:\n",
    "                \n",
    "                self.n -= instruction_intesity\n",
    "                \n",
    "            elif self.direction == 0:\n",
    "                \n",
    "                self.e += instruction_intesity\n",
    "                \n",
    "            elif self.direction == 180:\n",
    "                \n",
    "                self.e += - instruction_intesity\n",
    "        \n",
    "        elif instruction_type == 'N':\n",
    "            \n",
    "            self.n += instruction_intesity\n",
    "            \n",
    "        elif instruction_type == 'S':\n",
    "            \n",
    "            self.n -= instruction_intesity\n",
    "            \n",
    "        elif instruction_type == 'E':\n",
    "            \n",
    "            self.e += instruction_intesity\n",
    "            \n",
    "        elif instruction_type == 'W':\n",
    "            \n",
    "            self.e -= instruction_intesity\n",
    "            \n",
    "        else:\n",
    "            \n",
    "            print(\"Some case was not captured!\")\n",
    "        \n",
    "        \n",
    "        self.relevant_instruction += 1\n",
    "        \n",
    "    def walk_through_all_instructions(self):\n",
    "        \n",
    "        while self.relevant_instruction < (len(self.df)):\n",
    "            \n",
    "            self.update_position()\n",
    "        \n",
    "    \n",
    "    def get_manhattan_distance(self):\n",
    "        \n",
    "        return np.abs(self.n) + np.abs(self.e)"
   ]
  },
  {
   "cell_type": "code",
   "execution_count": 382,
   "metadata": {},
   "outputs": [],
   "source": [
    "df = load_data()"
   ]
  },
  {
   "cell_type": "code",
   "execution_count": 383,
   "metadata": {},
   "outputs": [],
   "source": [
    "count_object = end_destination(df)"
   ]
  },
  {
   "cell_type": "code",
   "execution_count": 384,
   "metadata": {},
   "outputs": [],
   "source": [
    "count_object.walk_through_all_instructions()"
   ]
  },
  {
   "cell_type": "code",
   "execution_count": 385,
   "metadata": {},
   "outputs": [
    {
     "name": "stdout",
     "output_type": "stream",
     "text": [
      "The manhattan distance is: 759\n"
     ]
    }
   ],
   "source": [
    "print(\"The manhattan distance is: {}\".format(count_object.get_manhattan_distance()))"
   ]
  },
  {
   "cell_type": "code",
   "execution_count": null,
   "metadata": {},
   "outputs": [],
   "source": [
    "#Part 2"
   ]
  },
  {
   "cell_type": "code",
   "execution_count": null,
   "metadata": {},
   "outputs": [],
   "source": []
  },
  {
   "cell_type": "code",
   "execution_count": null,
   "metadata": {},
   "outputs": [],
   "source": []
  },
  {
   "cell_type": "code",
   "execution_count": null,
   "metadata": {},
   "outputs": [],
   "source": []
  },
  {
   "cell_type": "code",
   "execution_count": null,
   "metadata": {},
   "outputs": [],
   "source": []
  },
  {
   "cell_type": "code",
   "execution_count": null,
   "metadata": {},
   "outputs": [],
   "source": []
  }
 ],
 "metadata": {
  "kernelspec": {
   "display_name": "Python 3",
   "language": "python",
   "name": "python3"
  },
  "language_info": {
   "codemirror_mode": {
    "name": "ipython",
    "version": 3
   },
   "file_extension": ".py",
   "mimetype": "text/x-python",
   "name": "python",
   "nbconvert_exporter": "python",
   "pygments_lexer": "ipython3",
   "version": "3.6.0"
  }
 },
 "nbformat": 4,
 "nbformat_minor": 2
}
