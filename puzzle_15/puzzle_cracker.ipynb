{
 "cells": [
  {
   "cell_type": "code",
   "execution_count": 591,
   "metadata": {},
   "outputs": [],
   "source": [
    "import pandas as pd\n",
    "import numpy as np\n",
    "import time"
   ]
  },
  {
   "cell_type": "code",
   "execution_count": 592,
   "metadata": {},
   "outputs": [],
   "source": [
    "#Part 1"
   ]
  },
  {
   "cell_type": "code",
   "execution_count": 593,
   "metadata": {},
   "outputs": [],
   "source": [
    "def check_if_that_was_the_first_time(input_data):\n",
    "    \n",
    "    relevant_numbers = input_data[:-1]\n",
    "    last_spoken_number = input_data[-1]\n",
    "    \n",
    "    if last_spoken_number in relevant_numbers:\n",
    "        \n",
    "        return False\n",
    "    \n",
    "    else:\n",
    "        \n",
    "        return True"
   ]
  },
  {
   "cell_type": "code",
   "execution_count": 594,
   "metadata": {},
   "outputs": [],
   "source": [
    "def update_list(first_time, input_data):\n",
    "    \n",
    "    if first_time == True:\n",
    "        \n",
    "        input_data.append(0)\n",
    "    \n",
    "    else:        \n",
    "       \n",
    "        for i in range(len(input_data) - 2,-1,-1):\n",
    "    \n",
    "            if input_data[i] == input_data[-1]:\n",
    "        \n",
    "                input_data.append(len(input_data) - i - 1)\n",
    "                break\n",
    "        \n",
    "            else:\n",
    "        \n",
    "                pass       \n",
    "    \n",
    "    return input_data"
   ]
  },
  {
   "cell_type": "code",
   "execution_count": 595,
   "metadata": {},
   "outputs": [],
   "source": [
    "input_data = [7,14,0,17,11,1,2]"
   ]
  },
  {
   "cell_type": "code",
   "execution_count": 596,
   "metadata": {},
   "outputs": [],
   "source": [
    "i = 8\n",
    "\n",
    "while i < 2021:\n",
    "    \n",
    "    first_time = check_if_that_was_the_first_time(input_data)\n",
    "    input_data = update_list(first_time = first_time, input_data = input_data)\n",
    "    i = i + 1   "
   ]
  },
  {
   "cell_type": "code",
   "execution_count": 597,
   "metadata": {
    "scrolled": true
   },
   "outputs": [
    {
     "name": "stdout",
     "output_type": "stream",
     "text": [
      "The answer is: 206\n"
     ]
    }
   ],
   "source": [
    "print(\"The answer is: {}\".format(input_data[-1]))"
   ]
  },
  {
   "cell_type": "code",
   "execution_count": 598,
   "metadata": {},
   "outputs": [],
   "source": [
    "#Part 2. Speeds things up via hash-map!"
   ]
  },
  {
   "cell_type": "code",
   "execution_count": 599,
   "metadata": {},
   "outputs": [],
   "source": [
    "def get_last_spoken_number(input_data, number_of_turns):\n",
    "    \n",
    "    \"\"\"\n",
    "    Function takes as input a list with starting values and number of turns.\n",
    "    Returns last number spoken.\n",
    "    \"\"\"\n",
    "             \n",
    "    res_dict = {}\n",
    "\n",
    "    for i, x in enumerate(input_data):\n",
    "    \n",
    "        res_dict[x] = [i + 1]\n",
    "        \n",
    "    turn = len(input_data) + 1\n",
    "    last_number_spoken = input_data[-1]    \n",
    "    \n",
    "    while turn <= number_of_turns:\n",
    "        \n",
    "        if len(res_dict[last_number_spoken]) == 1:\n",
    "            \n",
    "            last_number_spoken = 0\n",
    "            res_dict[last_number_spoken].append(turn)\n",
    "            \n",
    "        else:\n",
    "            \n",
    "            last_number_spoken = res_dict[last_number_spoken][-1] -res_dict[last_number_spoken][-2]\n",
    "            \n",
    "            try:\n",
    "            \n",
    "                res_dict[last_number_spoken].append(turn)\n",
    "                \n",
    "            except:\n",
    "                \n",
    "                res_dict[last_number_spoken] = [turn]\n",
    "            \n",
    "            \n",
    "        turn += 1\n",
    "        \n",
    "    return last_number_spoken"
   ]
  },
  {
   "cell_type": "code",
   "execution_count": 600,
   "metadata": {},
   "outputs": [],
   "source": [
    "input_data = [7,14,0,17,11,1,2]"
   ]
  },
  {
   "cell_type": "code",
   "execution_count": 601,
   "metadata": {},
   "outputs": [],
   "source": [
    "last_number = get_last_spoken_number(input_data, 30000000)"
   ]
  },
  {
   "cell_type": "code",
   "execution_count": 602,
   "metadata": {
    "scrolled": true
   },
   "outputs": [
    {
     "name": "stdout",
     "output_type": "stream",
     "text": [
      "The last spoken number is: 955\n"
     ]
    }
   ],
   "source": [
    "print(\"The last spoken number is: {}\".format(last_number))"
   ]
  }
 ],
 "metadata": {
  "kernelspec": {
   "display_name": "Python 3",
   "language": "python",
   "name": "python3"
  },
  "language_info": {
   "codemirror_mode": {
    "name": "ipython",
    "version": 3
   },
   "file_extension": ".py",
   "mimetype": "text/x-python",
   "name": "python",
   "nbconvert_exporter": "python",
   "pygments_lexer": "ipython3",
   "version": "3.6.0"
  }
 },
 "nbformat": 4,
 "nbformat_minor": 2
}
