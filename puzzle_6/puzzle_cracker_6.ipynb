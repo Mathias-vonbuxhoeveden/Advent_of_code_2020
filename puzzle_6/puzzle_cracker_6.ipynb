{
 "cells": [
  {
   "cell_type": "code",
   "execution_count": 90,
   "metadata": {},
   "outputs": [],
   "source": [
    "import pandas as pd\n",
    "import numpy as np"
   ]
  },
  {
   "cell_type": "code",
   "execution_count": 91,
   "metadata": {},
   "outputs": [],
   "source": [
    "#Read in data\n",
    "\n",
    "lines = open('input_data.csv').read().splitlines()"
   ]
  },
  {
   "cell_type": "code",
   "execution_count": 92,
   "metadata": {},
   "outputs": [],
   "source": [
    "lines.append('')"
   ]
  },
  {
   "cell_type": "code",
   "execution_count": 93,
   "metadata": {},
   "outputs": [],
   "source": [
    "parsed_data = []\n",
    "new_string = \"\"\n",
    "\n",
    "for x in lines:   \n",
    "     \n",
    "    new_string = new_string + \" \" + x\n",
    "    \n",
    "    if x == \"\":\n",
    "        \n",
    "        parsed_data.append(new_string)\n",
    "        new_string = \"\" "
   ]
  },
  {
   "cell_type": "code",
   "execution_count": 94,
   "metadata": {},
   "outputs": [],
   "source": [
    "def counter_function(input_string):\n",
    "    \n",
    "    input_string = input_string.replace(' ','')\n",
    "    return len(set(input_string))    "
   ]
  },
  {
   "cell_type": "code",
   "execution_count": 95,
   "metadata": {},
   "outputs": [],
   "source": [
    "result = []\n",
    "\n",
    "for input_data in parsed_data:\n",
    "    \n",
    "    result.append(counter_function(input_string = input_data))\n",
    "    "
   ]
  },
  {
   "cell_type": "code",
   "execution_count": 96,
   "metadata": {},
   "outputs": [
    {
     "name": "stdout",
     "output_type": "stream",
     "text": [
      "The answer is 6565\n"
     ]
    }
   ],
   "source": [
    "print(\"The answer is {}\".format(np.sum(result)))"
   ]
  },
  {
   "cell_type": "code",
   "execution_count": 97,
   "metadata": {},
   "outputs": [],
   "source": [
    "#Part 2"
   ]
  },
  {
   "cell_type": "code",
   "execution_count": 98,
   "metadata": {},
   "outputs": [],
   "source": [
    "def check_if_letter_in_every_element(letter, string_list):\n",
    "    \n",
    "    number_of_elemets = len(string_list)\n",
    "    letter_in_string = 0\n",
    "    \n",
    "    for string in string_list:\n",
    "        \n",
    "        if letter in string:\n",
    "            \n",
    "            letter_in_string = letter_in_string + 1\n",
    "        \n",
    "        else:\n",
    "            \n",
    "            pass\n",
    "        \n",
    "    if letter_in_string == number_of_elemets:\n",
    "        \n",
    "        return 1 \n",
    "    \n",
    "    else:\n",
    "        \n",
    "        return 0"
   ]
  },
  {
   "cell_type": "code",
   "execution_count": 99,
   "metadata": {},
   "outputs": [],
   "source": [
    "def modified_counter_func(input_string):\n",
    "    \n",
    "    input_string = input_string.split(' ')\n",
    "    target_var = 0\n",
    "    \n",
    "    conacted_string = \"\"\n",
    "\n",
    "    for strings in input_string:\n",
    "    \n",
    "        conacted_string = conacted_string + strings\n",
    "        \n",
    "    conacted_string = set(conacted_string)\n",
    "    \n",
    "    for string in conacted_string:\n",
    "        \n",
    "        target_var += check_if_letter_in_every_element(letter = string, string_list = input_string)\n",
    "    \n",
    "    return target_var"
   ]
  },
  {
   "cell_type": "code",
   "execution_count": 100,
   "metadata": {},
   "outputs": [],
   "source": [
    "lines = open('input_data.csv').read().splitlines()"
   ]
  },
  {
   "cell_type": "code",
   "execution_count": 101,
   "metadata": {},
   "outputs": [],
   "source": [
    "lines.append('')"
   ]
  },
  {
   "cell_type": "code",
   "execution_count": 102,
   "metadata": {},
   "outputs": [],
   "source": [
    "parsed_data = []\n",
    "new_string = \"\"\n",
    "\n",
    "for x in lines:   \n",
    "     \n",
    "    new_string = new_string + \" \" + x\n",
    "    \n",
    "    if x == \"\":\n",
    "        \n",
    "        parsed_data.append(new_string)\n",
    "        new_string = \"\""
   ]
  },
  {
   "cell_type": "code",
   "execution_count": 103,
   "metadata": {},
   "outputs": [],
   "source": [
    "input_data = []\n",
    "\n",
    "for input_string in parsed_data:\n",
    "    \n",
    "    input_data.append(input_string.strip())"
   ]
  },
  {
   "cell_type": "code",
   "execution_count": 104,
   "metadata": {},
   "outputs": [],
   "source": [
    "result = []\n",
    "\n",
    "for data in input_data:\n",
    "    \n",
    "    result.append(modified_counter_func(input_string = data))"
   ]
  },
  {
   "cell_type": "code",
   "execution_count": 105,
   "metadata": {},
   "outputs": [
    {
     "name": "stdout",
     "output_type": "stream",
     "text": [
      "The answer is 3137\n"
     ]
    }
   ],
   "source": [
    "print(\"The answer is {}\".format(np.sum(result)))"
   ]
  }
 ],
 "metadata": {
  "kernelspec": {
   "display_name": "Python 3",
   "language": "python",
   "name": "python3"
  },
  "language_info": {
   "codemirror_mode": {
    "name": "ipython",
    "version": 3
   },
   "file_extension": ".py",
   "mimetype": "text/x-python",
   "name": "python",
   "nbconvert_exporter": "python",
   "pygments_lexer": "ipython3",
   "version": "3.6.0"
  }
 },
 "nbformat": 4,
 "nbformat_minor": 2
}
