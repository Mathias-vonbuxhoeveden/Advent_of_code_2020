{
 "cells": [
  {
   "cell_type": "code",
   "execution_count": 521,
   "metadata": {},
   "outputs": [],
   "source": [
    "import pandas as pd\n",
    "import numpy as np"
   ]
  },
  {
   "cell_type": "code",
   "execution_count": 522,
   "metadata": {},
   "outputs": [],
   "source": [
    "def load_data(df_name):\n",
    "    \n",
    "    df = pd.read_csv(df_name, header = None)\n",
    "    \n",
    "    if df_name == 'df_2.csv':\n",
    "        \n",
    "        df = df.loc[0,:].tolist()\n",
    "        \n",
    "        return df\n",
    "    \n",
    "    elif df_name == 'df_3.csv':\n",
    "        \n",
    "        df = df.values.tolist()\n",
    "        \n",
    "        return df\n",
    "    \n",
    "    else:      \n",
    "    \n",
    "        df.columns = ['data']\n",
    "        df = df.data.tolist()\n",
    "    \n",
    "        return df   "
   ]
  },
  {
   "cell_type": "code",
   "execution_count": 523,
   "metadata": {},
   "outputs": [],
   "source": [
    "#Load data"
   ]
  },
  {
   "cell_type": "code",
   "execution_count": 524,
   "metadata": {},
   "outputs": [],
   "source": [
    "#Part 1"
   ]
  },
  {
   "cell_type": "code",
   "execution_count": 525,
   "metadata": {},
   "outputs": [],
   "source": [
    "def parse_valid_numbers_list(valid_fields):\n",
    "    \n",
    "    \"\"\"\n",
    "    Function takes as input the list of valid fields, and returns \n",
    "    a (parsed) list of values that are valid.\n",
    "    \n",
    "    \"\"\"\n",
    "    \n",
    "    valid_field_list = []\n",
    "    \n",
    "    for values in valid_fields:\n",
    "        \n",
    "        data = values.split(':',)[1].strip()\n",
    "        first_range = data.split('or')[0].strip()\n",
    "        second_range = data.split('or')[1].strip()\n",
    "        \n",
    "        range_1 = (int(first_range.split('-')[0]), int(first_range.split('-')[1]))\n",
    "        range_2 = (int(second_range.split('-')[0]), int(second_range.split('-')[1]))\n",
    "        \n",
    "        valid_field_list.append(range_1)\n",
    "        valid_field_list.append(range_2)      \n",
    "\n",
    "    \n",
    "    \n",
    "    return valid_field_list        "
   ]
  },
  {
   "cell_type": "code",
   "execution_count": 526,
   "metadata": {},
   "outputs": [],
   "source": [
    "def check_if_number_is_invalid(input_number, valid_fields):\n",
    "    \n",
    "    \"\"\" \n",
    "    Function takes as input a number, and check if it exists in \n",
    "    valid_fields. If it does, the function returns 0. Otherwise,\n",
    "    the function returns 1.\n",
    "    \n",
    "    \"\"\"\n",
    "    \n",
    "    for value_ranges in valid_fields:\n",
    "        \n",
    "        mask1 = input_number >= value_ranges[0]\n",
    "        mask2 = input_number <= value_ranges[1]\n",
    "        mask3 = (mask1 & mask2)\n",
    "\n",
    "        if mask3:\n",
    "            \n",
    "            return 0\n",
    "        \n",
    "        else:\n",
    "            \n",
    "            pass\n",
    "        \n",
    "    return 1  "
   ]
  },
  {
   "cell_type": "code",
   "execution_count": 527,
   "metadata": {},
   "outputs": [],
   "source": [
    "df_1 = load_data('df_1.csv')"
   ]
  },
  {
   "cell_type": "code",
   "execution_count": 528,
   "metadata": {},
   "outputs": [],
   "source": [
    "df_2 = load_data('df_2.csv')"
   ]
  },
  {
   "cell_type": "code",
   "execution_count": 529,
   "metadata": {},
   "outputs": [],
   "source": [
    "df_3 = load_data('df_3.csv')"
   ]
  },
  {
   "cell_type": "code",
   "execution_count": 530,
   "metadata": {},
   "outputs": [],
   "source": [
    "df_1 = parse_valid_numbers_list(df_1)"
   ]
  },
  {
   "cell_type": "code",
   "execution_count": 531,
   "metadata": {},
   "outputs": [],
   "source": [
    "invalid_numbers = []\n",
    "\n",
    "for lists in df_3:\n",
    "    \n",
    "    for values in lists:\n",
    "        \n",
    "        invalid_number = check_if_number_is_invalid(values, df_1)\n",
    "        \n",
    "        if invalid_number == 1:\n",
    "            \n",
    "            invalid_numbers.append(values)\n",
    "        \n",
    "        else:\n",
    "            \n",
    "            pass"
   ]
  },
  {
   "cell_type": "code",
   "execution_count": 532,
   "metadata": {},
   "outputs": [
    {
     "name": "stdout",
     "output_type": "stream",
     "text": [
      "The ticket scanning error rate is: 25788\n"
     ]
    }
   ],
   "source": [
    "print(\"The ticket scanning error rate is: {}\".format(np.sum(invalid_numbers)))"
   ]
  },
  {
   "cell_type": "code",
   "execution_count": 533,
   "metadata": {},
   "outputs": [],
   "source": [
    "#Part 2"
   ]
  },
  {
   "cell_type": "code",
   "execution_count": 534,
   "metadata": {},
   "outputs": [],
   "source": [
    "#Remove tickets that contain invalid fields!"
   ]
  },
  {
   "cell_type": "code",
   "execution_count": 535,
   "metadata": {},
   "outputs": [
    {
     "name": "stdout",
     "output_type": "stream",
     "text": [
      "There are 237 tickets in total\n"
     ]
    }
   ],
   "source": [
    "print(\"There are {} tickets in total\".format(len(df_3)))"
   ]
  },
  {
   "cell_type": "code",
   "execution_count": 536,
   "metadata": {},
   "outputs": [],
   "source": [
    "valid_tickets = []\n",
    "\n",
    "for ticket in df_3:\n",
    "    \n",
    "    invalid_numbers_in_ticket = []\n",
    "    \n",
    "    for number in ticket:\n",
    "        \n",
    "        invalid_numbers_in_ticket.append(check_if_number_is_invalid(number, df_1))\n",
    "        \n",
    "    if np.sum(invalid_numbers_in_ticket) > 0:\n",
    "        \n",
    "        pass\n",
    "    \n",
    "    else:\n",
    "        \n",
    "        valid_tickets.append(ticket)       "
   ]
  },
  {
   "cell_type": "code",
   "execution_count": 537,
   "metadata": {
    "scrolled": false
   },
   "outputs": [
    {
     "name": "stdout",
     "output_type": "stream",
     "text": [
      "There are 190 valid tickets\n"
     ]
    }
   ],
   "source": [
    "print(\"There are {} valid tickets\".format(len(valid_tickets)))"
   ]
  },
  {
   "cell_type": "code",
   "execution_count": 538,
   "metadata": {},
   "outputs": [],
   "source": [
    "field_names = [\n",
    "\n",
    "'departure location', \n",
    "'departure station',\n",
    "'departure platform', \n",
    "'departure track', \n",
    "'departure date', \n",
    "'departure time', \n",
    "'arrival location',\n",
    "'arrival station', \n",
    "'arrival platform', \n",
    "'arrival track', \n",
    "'class',\n",
    "'duration', \n",
    "'price', \n",
    "'route',\n",
    "'row', \n",
    "'seat', \n",
    "'train', \n",
    "'type', \n",
    "'wagon', \n",
    "'zone']"
   ]
  },
  {
   "cell_type": "code",
   "execution_count": 539,
   "metadata": {},
   "outputs": [],
   "source": [
    "my_dict = {}\n",
    "i = 0\n",
    "\n",
    "for field in field_names:\n",
    "    associated_fields = []\n",
    "    associated_fields.append(df_1[i])\n",
    "    associated_fields.append(df_1[i + 1])\n",
    "    my_dict[field] = associated_fields\n",
    "    i += 2"
   ]
  },
  {
   "cell_type": "code",
   "execution_count": 540,
   "metadata": {},
   "outputs": [],
   "source": [
    "def check_if_field_is_valid(tickets, relevant_range, guess):\n",
    "    \n",
    "    \"\"\"\n",
    "    Function takes as input data with tickets, the range associated with the field we are examining, and\n",
    "    a guess about which column corresponds to the field of interest. If no inconsistencys are found, funcion\n",
    "    returns 1, else 0.\n",
    "    \"\"\"\n",
    "    \n",
    "    numbers = []\n",
    "    \n",
    "    for ticket in tickets:\n",
    "        \n",
    "        value_in_col = ticket[guess]\n",
    "        \n",
    "        for i, ranges in enumerate(relevant_range):\n",
    "            \n",
    "            mask1 = value_in_col >= ranges[0]\n",
    "            mask2 = value_in_col <= ranges[1]\n",
    "            mask3 = (mask1 & mask2)\n",
    "            \n",
    "            if mask3:\n",
    "                \n",
    "                numbers.append(1)\n",
    "                break\n",
    "                \n",
    "            elif i == 1:\n",
    "                \n",
    "                numbers.append(0)\n",
    "                break\n",
    "                \n",
    "            else:\n",
    "                \n",
    "                pass       \n",
    "  \n",
    "    \n",
    "    check = np.min(numbers)    \n",
    "    \n",
    "    if check > 0:\n",
    "        \n",
    "        return 1\n",
    "    \n",
    "    else:\n",
    "        \n",
    "        return 0"
   ]
  },
  {
   "cell_type": "code",
   "execution_count": 541,
   "metadata": {},
   "outputs": [],
   "source": [
    "#Create dictionary "
   ]
  },
  {
   "cell_type": "code",
   "execution_count": 542,
   "metadata": {},
   "outputs": [],
   "source": [
    "res_dict = {}\n",
    "cols = [x for x in range(20)]"
   ]
  },
  {
   "cell_type": "code",
   "execution_count": 543,
   "metadata": {},
   "outputs": [],
   "source": [
    "for field_name in field_names:\n",
    "    \n",
    "    relevant_ranges = my_dict[field_name]\n",
    "    res_list = []\n",
    "    \n",
    "    for col in cols:\n",
    "        \n",
    "        res_list.append(check_if_field_is_valid(valid_tickets, relevant_ranges, col))\n",
    "        \n",
    "    \n",
    "    res_dict[field_name] = res_list  "
   ]
  },
  {
   "cell_type": "code",
   "execution_count": 544,
   "metadata": {},
   "outputs": [],
   "source": [
    "df = pd.DataFrame(res_dict)"
   ]
  },
  {
   "cell_type": "code",
   "execution_count": 545,
   "metadata": {
    "scrolled": true
   },
   "outputs": [],
   "source": [
    "degrees_of_freedom = df.sum().sort_values().to_frame('degrees_of_freedom').reset_index()"
   ]
  },
  {
   "cell_type": "code",
   "execution_count": 546,
   "metadata": {},
   "outputs": [],
   "source": [
    "degrees_of_freedom = degrees_of_freedom.rename(columns = {'index': 'field'})"
   ]
  },
  {
   "cell_type": "code",
   "execution_count": 547,
   "metadata": {},
   "outputs": [
    {
     "data": {
      "text/html": [
       "<div>\n",
       "<style scoped>\n",
       "    .dataframe tbody tr th:only-of-type {\n",
       "        vertical-align: middle;\n",
       "    }\n",
       "\n",
       "    .dataframe tbody tr th {\n",
       "        vertical-align: top;\n",
       "    }\n",
       "\n",
       "    .dataframe thead th {\n",
       "        text-align: right;\n",
       "    }\n",
       "</style>\n",
       "<table border=\"1\" class=\"dataframe\">\n",
       "  <thead>\n",
       "    <tr style=\"text-align: right;\">\n",
       "      <th></th>\n",
       "      <th>field</th>\n",
       "      <th>degrees_of_freedom</th>\n",
       "    </tr>\n",
       "  </thead>\n",
       "  <tbody>\n",
       "    <tr>\n",
       "      <th>0</th>\n",
       "      <td>arrival track</td>\n",
       "      <td>1</td>\n",
       "    </tr>\n",
       "    <tr>\n",
       "      <th>1</th>\n",
       "      <td>train</td>\n",
       "      <td>2</td>\n",
       "    </tr>\n",
       "    <tr>\n",
       "      <th>2</th>\n",
       "      <td>arrival platform</td>\n",
       "      <td>3</td>\n",
       "    </tr>\n",
       "    <tr>\n",
       "      <th>3</th>\n",
       "      <td>arrival location</td>\n",
       "      <td>4</td>\n",
       "    </tr>\n",
       "    <tr>\n",
       "      <th>4</th>\n",
       "      <td>class</td>\n",
       "      <td>5</td>\n",
       "    </tr>\n",
       "    <tr>\n",
       "      <th>5</th>\n",
       "      <td>price</td>\n",
       "      <td>6</td>\n",
       "    </tr>\n",
       "    <tr>\n",
       "      <th>6</th>\n",
       "      <td>type</td>\n",
       "      <td>7</td>\n",
       "    </tr>\n",
       "    <tr>\n",
       "      <th>7</th>\n",
       "      <td>arrival station</td>\n",
       "      <td>8</td>\n",
       "    </tr>\n",
       "    <tr>\n",
       "      <th>8</th>\n",
       "      <td>seat</td>\n",
       "      <td>9</td>\n",
       "    </tr>\n",
       "    <tr>\n",
       "      <th>9</th>\n",
       "      <td>departure track</td>\n",
       "      <td>10</td>\n",
       "    </tr>\n",
       "    <tr>\n",
       "      <th>10</th>\n",
       "      <td>departure location</td>\n",
       "      <td>11</td>\n",
       "    </tr>\n",
       "    <tr>\n",
       "      <th>11</th>\n",
       "      <td>departure time</td>\n",
       "      <td>12</td>\n",
       "    </tr>\n",
       "    <tr>\n",
       "      <th>12</th>\n",
       "      <td>departure date</td>\n",
       "      <td>13</td>\n",
       "    </tr>\n",
       "    <tr>\n",
       "      <th>13</th>\n",
       "      <td>departure station</td>\n",
       "      <td>14</td>\n",
       "    </tr>\n",
       "    <tr>\n",
       "      <th>14</th>\n",
       "      <td>departure platform</td>\n",
       "      <td>15</td>\n",
       "    </tr>\n",
       "    <tr>\n",
       "      <th>15</th>\n",
       "      <td>duration</td>\n",
       "      <td>16</td>\n",
       "    </tr>\n",
       "    <tr>\n",
       "      <th>16</th>\n",
       "      <td>row</td>\n",
       "      <td>17</td>\n",
       "    </tr>\n",
       "    <tr>\n",
       "      <th>17</th>\n",
       "      <td>wagon</td>\n",
       "      <td>18</td>\n",
       "    </tr>\n",
       "    <tr>\n",
       "      <th>18</th>\n",
       "      <td>route</td>\n",
       "      <td>19</td>\n",
       "    </tr>\n",
       "    <tr>\n",
       "      <th>19</th>\n",
       "      <td>zone</td>\n",
       "      <td>20</td>\n",
       "    </tr>\n",
       "  </tbody>\n",
       "</table>\n",
       "</div>"
      ],
      "text/plain": [
       "                 field  degrees_of_freedom\n",
       "0        arrival track                   1\n",
       "1                train                   2\n",
       "2     arrival platform                   3\n",
       "3     arrival location                   4\n",
       "4                class                   5\n",
       "5                price                   6\n",
       "6                 type                   7\n",
       "7      arrival station                   8\n",
       "8                 seat                   9\n",
       "9      departure track                  10\n",
       "10  departure location                  11\n",
       "11      departure time                  12\n",
       "12      departure date                  13\n",
       "13   departure station                  14\n",
       "14  departure platform                  15\n",
       "15            duration                  16\n",
       "16                 row                  17\n",
       "17               wagon                  18\n",
       "18               route                  19\n",
       "19                zone                  20"
      ]
     },
     "execution_count": 547,
     "metadata": {},
     "output_type": "execute_result"
    }
   ],
   "source": [
    "degrees_of_freedom"
   ]
  },
  {
   "cell_type": "markdown",
   "metadata": {},
   "source": [
    "Algo:\n",
    "\n",
    "1) Pick top-field in degrees_of_freedom (starts at \"arrival track\").\n",
    "\n",
    "2) Return index where arrival track column = 1.\n",
    "\n",
    "3) Set this row to zero for all columns.\n",
    "\n",
    "4) Continue to next value in degrees_of_freedom."
   ]
  },
  {
   "cell_type": "code",
   "execution_count": 548,
   "metadata": {},
   "outputs": [],
   "source": [
    "final_dict = {}"
   ]
  },
  {
   "cell_type": "code",
   "execution_count": 549,
   "metadata": {},
   "outputs": [],
   "source": [
    "search_order = degrees_of_freedom.field.tolist()"
   ]
  },
  {
   "cell_type": "code",
   "execution_count": 550,
   "metadata": {},
   "outputs": [],
   "source": [
    "for field in search_order:\n",
    "    \n",
    "    col_position = int(df[df[field] == 1].index.values)\n",
    "    final_dict[field] = col_position\n",
    "    \n",
    "    mask = df.index == col_position\n",
    "\n",
    "    for var in df.columns:\n",
    "    \n",
    "        df.loc[mask,var] = 0"
   ]
  },
  {
   "cell_type": "code",
   "execution_count": 551,
   "metadata": {},
   "outputs": [
    {
     "data": {
      "text/plain": [
       "{'arrival track': 0,\n",
       " 'train': 3,\n",
       " 'arrival platform': 8,\n",
       " 'arrival location': 1,\n",
       " 'class': 12,\n",
       " 'price': 14,\n",
       " 'type': 6,\n",
       " 'arrival station': 5,\n",
       " 'seat': 9,\n",
       " 'departure track': 17,\n",
       " 'departure location': 13,\n",
       " 'departure time': 16,\n",
       " 'departure date': 19,\n",
       " 'departure station': 10,\n",
       " 'departure platform': 7,\n",
       " 'duration': 4,\n",
       " 'row': 2,\n",
       " 'wagon': 15,\n",
       " 'route': 11,\n",
       " 'zone': 18}"
      ]
     },
     "execution_count": 551,
     "metadata": {},
     "output_type": "execute_result"
    }
   ],
   "source": [
    "final_dict"
   ]
  },
  {
   "cell_type": "code",
   "execution_count": 552,
   "metadata": {},
   "outputs": [],
   "source": [
    "fields_to_sum = [17,13,16,19,10,7]"
   ]
  },
  {
   "cell_type": "code",
   "execution_count": 553,
   "metadata": {
    "scrolled": true
   },
   "outputs": [
    {
     "data": {
      "text/plain": [
       "[17, 13, 16, 19, 10, 7]"
      ]
     },
     "execution_count": 553,
     "metadata": {},
     "output_type": "execute_result"
    }
   ],
   "source": [
    "fields_to_sum"
   ]
  },
  {
   "cell_type": "code",
   "execution_count": 554,
   "metadata": {},
   "outputs": [],
   "source": [
    "my_ticket = [163,151,149,67,71,79,109,61,83,137,89,59,53,179,73,157,139,173,131,167]"
   ]
  },
  {
   "cell_type": "code",
   "execution_count": 560,
   "metadata": {},
   "outputs": [],
   "source": [
    "factors = []\n",
    "\n",
    "for j in fields_to_sum:\n",
    "    \n",
    "    factors.append(my_ticket[j])"
   ]
  },
  {
   "cell_type": "code",
   "execution_count": 569,
   "metadata": {},
   "outputs": [
    {
     "data": {
      "text/plain": [
       "-1559356505"
      ]
     },
     "execution_count": 569,
     "metadata": {},
     "output_type": "execute_result"
    }
   ],
   "source": [
    "np.prod(factors)"
   ]
  },
  {
   "cell_type": "code",
   "execution_count": 567,
   "metadata": {},
   "outputs": [
    {
     "data": {
      "text/plain": [
       "[173, 179, 139, 167, 89, 61]"
      ]
     },
     "execution_count": 567,
     "metadata": {},
     "output_type": "execute_result"
    }
   ],
   "source": [
    "factors"
   ]
  },
  {
   "cell_type": "code",
   "execution_count": null,
   "metadata": {},
   "outputs": [],
   "source": []
  }
 ],
 "metadata": {
  "kernelspec": {
   "display_name": "Python 3",
   "language": "python",
   "name": "python3"
  },
  "language_info": {
   "codemirror_mode": {
    "name": "ipython",
    "version": 3
   },
   "file_extension": ".py",
   "mimetype": "text/x-python",
   "name": "python",
   "nbconvert_exporter": "python",
   "pygments_lexer": "ipython3",
   "version": "3.6.0"
  }
 },
 "nbformat": 4,
 "nbformat_minor": 2
}
