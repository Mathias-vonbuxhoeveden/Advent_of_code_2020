{
 "cells": [
  {
   "cell_type": "code",
   "execution_count": 122,
   "metadata": {},
   "outputs": [],
   "source": [
    "import pandas as pd\n",
    "import numpy as np"
   ]
  },
  {
   "cell_type": "code",
   "execution_count": 123,
   "metadata": {},
   "outputs": [],
   "source": [
    "#Part 1"
   ]
  },
  {
   "cell_type": "code",
   "execution_count": 124,
   "metadata": {},
   "outputs": [],
   "source": [
    "def load_data():\n",
    "    \n",
    "    df = pd.read_csv('input_data.csv', header = None)\n",
    "    df.columns = ['data']\n",
    "    df = df.data.tolist()\n",
    "    \n",
    "    return df  "
   ]
  },
  {
   "cell_type": "code",
   "execution_count": 125,
   "metadata": {},
   "outputs": [],
   "source": [
    "def check_if_spot_is_occupied(row_position, column_position, input_data):\n",
    "    \n",
    "    \"\"\"\n",
    "    Function takes as input row and column position and checks if that seat on\n",
    "    the input data is occupied. Returns 1 if it is occupied, 0 otherwise.\n",
    "    \n",
    "    \"\"\"\n",
    "    \n",
    "    if input_data[row_position][column_position] == \"#\":\n",
    "        \n",
    "        return 1\n",
    "    \n",
    "    else:\n",
    "        \n",
    "        return 0"
   ]
  },
  {
   "cell_type": "code",
   "execution_count": 126,
   "metadata": {},
   "outputs": [],
   "source": [
    "def check_if_seat_exists(row_position, column_position, input_data):\n",
    "    \n",
    "    \n",
    "    \"\"\"Function takes as input row and column position and checks if that seat exists\n",
    "       on input data. Returns 1 if it is occupied, 0 otherwise.\"\"\"\n",
    "    \n",
    "    if row_position < 0:\n",
    "        \n",
    "        return 0\n",
    "    \n",
    "    elif row_position >= len(input_data):\n",
    "        \n",
    "        return 0\n",
    "    \n",
    "    elif column_position < 0:\n",
    "        \n",
    "        return 0\n",
    "    \n",
    "    elif column_position >= (len(input_data[0])):\n",
    "        \n",
    "        return 0\n",
    "    \n",
    "    else:\n",
    "        \n",
    "        return 1  "
   ]
  },
  {
   "cell_type": "code",
   "execution_count": 127,
   "metadata": {},
   "outputs": [],
   "source": [
    "def check_if_floor(row_position, column_position, input_data):\n",
    "    \n",
    "    if input_data[row_position][column_position] == '.':\n",
    "        \n",
    "        return 1\n",
    "    \n",
    "    else:\n",
    "        \n",
    "        return 0"
   ]
  },
  {
   "cell_type": "code",
   "execution_count": 128,
   "metadata": {},
   "outputs": [],
   "source": [
    "def check_number_of_occupied_adjacent_seats(row_position, column_position, input_data):\n",
    "    \n",
    "    \"\"\"\n",
    "    Function takes as input row_position and column_position and return a count\n",
    "    on the number of occupied adjact seats\n",
    "    \n",
    "    \"\"\"\n",
    "    \n",
    "    seat_left = (row_position, column_position - 1)\n",
    "    seat_right = (row_position, column_position + 1)\n",
    "    seat_below = (row_position + 1, column_position)\n",
    "    seat_above = (row_position - 1, column_position)\n",
    "    seat_above_left = (row_position -1, column_position - 1)\n",
    "    seat_above_right = (row_position -1, column_position + 1)\n",
    "    seat_below_left =  (row_position +1, column_position - 1)\n",
    "    seat_below_right = (row_position +1, column_position + 1)\n",
    "    \n",
    "    adjacent_seats = [seat_left, seat_right, seat_below, seat_above, seat_above_left, seat_above_right, seat_below_left, seat_below_right]\n",
    "    number_of_occupied_seats = []\n",
    "    \n",
    "    for seats in adjacent_seats:\n",
    "        \n",
    "        row_number, column_number = seats\n",
    "        seat_exist = check_if_seat_exists(row_number,column_number,input_data)\n",
    "            \n",
    "        if seat_exist == 0:\n",
    "                \n",
    "            number_of_occupied_seats.append(0)\n",
    "\n",
    "        else:\n",
    "                \n",
    "            number_of_occupied_seats.append(check_if_spot_is_occupied(row_number, column_number, input_data))\n",
    "    \n",
    "        \n",
    "    return np.sum(number_of_occupied_seats)"
   ]
  },
  {
   "cell_type": "code",
   "execution_count": 129,
   "metadata": {},
   "outputs": [],
   "source": [
    "def convert_seat(number_of_adjacted_occupied, seat_is_occupied, is_floor, seat):\n",
    "    \n",
    "    \n",
    "    if (seat_is_occupied == 0) & (number_of_adjacted_occupied == 0) & (is_floor == 0):\n",
    "        \n",
    "        return \"#\"\n",
    "    \n",
    "    elif (seat_is_occupied == 1) & (number_of_adjacted_occupied >= 4):\n",
    "        \n",
    "        return \"L\"\n",
    "    \n",
    "    elif is_floor == 1:\n",
    "        \n",
    "        return '.'\n",
    "    \n",
    "    else: \n",
    "        \n",
    "        return seat"
   ]
  },
  {
   "cell_type": "code",
   "execution_count": 130,
   "metadata": {},
   "outputs": [],
   "source": [
    "def get_new_arrangment(input_data, number_of_rows, number_of_cols):\n",
    "    \n",
    "    new_arrangment = []\n",
    "    \n",
    "    for row in range(number_of_rows):\n",
    "        \n",
    "        new_row = \"\"\n",
    "        \n",
    "        for col in range(number_of_cols):\n",
    "            \n",
    "            number_of_adjacted_occupied = check_number_of_occupied_adjacent_seats(row, col, input_data)\n",
    "            seat_is_occupied = check_if_spot_is_occupied(row,col,input_data)\n",
    "            is_floor = check_if_floor(row, col, input_data)\n",
    "            new_seat = convert_seat(number_of_adjacted_occupied, seat_is_occupied, is_floor, input_data[row][col])\n",
    "            new_row = new_row + new_seat\n",
    "            \n",
    "        new_arrangment.append(new_row)\n",
    "        \n",
    "    return new_arrangment"
   ]
  },
  {
   "cell_type": "code",
   "execution_count": 131,
   "metadata": {},
   "outputs": [],
   "source": [
    "def find_steady_state(df, number_of_rows, number_of_cols):  \n",
    "    \n",
    "      \n",
    "    new_arrangment = get_new_arrangment(input_data = df, number_of_rows = number_of_rows, number_of_cols = number_of_cols)\n",
    "\n",
    "    if df == new_arrangment:\n",
    "        \n",
    "        return new_arrangment\n",
    "    \n",
    "    return find_steady_state(new_arrangment, number_of_rows, number_of_cols)  "
   ]
  },
  {
   "cell_type": "code",
   "execution_count": 132,
   "metadata": {},
   "outputs": [],
   "source": [
    "df = load_data()"
   ]
  },
  {
   "cell_type": "code",
   "execution_count": 133,
   "metadata": {},
   "outputs": [],
   "source": [
    "number_of_rows = len(df)"
   ]
  },
  {
   "cell_type": "code",
   "execution_count": 134,
   "metadata": {},
   "outputs": [],
   "source": [
    "number_of_cols = len(df[0])"
   ]
  },
  {
   "cell_type": "code",
   "execution_count": 135,
   "metadata": {},
   "outputs": [],
   "source": [
    "steady_state = find_steady_state(df, number_of_rows, number_of_cols)"
   ]
  },
  {
   "cell_type": "code",
   "execution_count": 136,
   "metadata": {},
   "outputs": [],
   "source": [
    "total = 0\n",
    "\n",
    "for x in steady_state:\n",
    "    \n",
    "    total += x.count(\"#\")"
   ]
  },
  {
   "cell_type": "code",
   "execution_count": 137,
   "metadata": {
    "scrolled": true
   },
   "outputs": [
    {
     "name": "stdout",
     "output_type": "stream",
     "text": [
      "There are 2424 occupied seats in steady state\n"
     ]
    }
   ],
   "source": [
    "print(\"There are {} occupied seats in steady state\".format(total))"
   ]
  },
  {
   "cell_type": "code",
   "execution_count": 138,
   "metadata": {},
   "outputs": [],
   "source": [
    "#Part 2"
   ]
  },
  {
   "cell_type": "code",
   "execution_count": 139,
   "metadata": {},
   "outputs": [],
   "source": [
    "def check_left(row, col, data):\n",
    "    \n",
    "    \"\"\"\n",
    "    Takes as input row and col position of seat as well as the data.\n",
    "    Checks left. If first visible seat is occupied, return 1. Else,\n",
    "    return 0.    \n",
    "    \n",
    "    \"\"\"\n",
    "    \n",
    "    string_to_check = data[row]\n",
    "   \n",
    "    for i in range(col - 1,-1, -1):\n",
    "    \n",
    "        if string_to_check[i]  == \"L\":\n",
    "            \n",
    "            break\n",
    "        \n",
    "        elif string_to_check[i] == '.':\n",
    "           \n",
    "            pass\n",
    "        \n",
    "        elif string_to_check[i] == \"#\":\n",
    "        \n",
    "            return 1\n",
    "        \n",
    "        else:\n",
    "            \n",
    "            pass\n",
    "        \n",
    "    return 0"
   ]
  },
  {
   "cell_type": "code",
   "execution_count": 140,
   "metadata": {},
   "outputs": [],
   "source": [
    "def check_right(row, col, data):\n",
    "    \n",
    "    \"\"\" \n",
    "    Takes as input row and col position of seat as well as the data.\n",
    "    Checks right. If first visible seat is occupied, return 1. Else,\n",
    "    return 0.  \n",
    "    \"\"\"\n",
    "    \n",
    "    string_to_check = data[row]\n",
    "    \n",
    "    for i in range(col + 1,len(string_to_check)):\n",
    "        \n",
    "        if string_to_check[i]  == \"L\":\n",
    "            \n",
    "            break\n",
    "        \n",
    "        elif string_to_check[i] == '.':\n",
    "           \n",
    "            pass\n",
    "        \n",
    "        elif string_to_check[i] == \"#\":\n",
    "        \n",
    "            return 1\n",
    "        \n",
    "        else:\n",
    "            \n",
    "            pass\n",
    "        \n",
    "    return 0   "
   ]
  },
  {
   "cell_type": "code",
   "execution_count": 141,
   "metadata": {},
   "outputs": [],
   "source": [
    "def check_down(row, col, data):\n",
    "    \n",
    "    \"\"\" \n",
    "    Takes as input row and col poistion of the seat as well as the data.\n",
    "    Checks down. If first visible seat is occupied, return 1. Else,\n",
    "    return 0.      \n",
    "    \"\"\"\n",
    "    for i in range(row + 1, len(data), 1):\n",
    "        \n",
    "        if data[i][col]  == \"L\":\n",
    "            \n",
    "            break\n",
    "        \n",
    "        elif data[i][col] == '.':\n",
    "           \n",
    "            pass\n",
    "        \n",
    "        elif data[i][col] == \"#\":\n",
    "        \n",
    "            return 1\n",
    "        \n",
    "        else:\n",
    "            \n",
    "            pass\n",
    "        \n",
    "    return 0"
   ]
  },
  {
   "cell_type": "code",
   "execution_count": 142,
   "metadata": {},
   "outputs": [],
   "source": [
    "def check_up(row, col, data):\n",
    "    \n",
    "    \"\"\" \n",
    "    Takes as input row and col poistion of the seat as well as the data.\n",
    "    Checks up. If first visible seat is occupied, return 1. Else,\n",
    "    return 0.      \n",
    "    \"\"\"\n",
    "    \n",
    "    for i in range(row - 1, -1, -1):        \n",
    "        \n",
    "        if data[i][col]  == \"L\":\n",
    "            \n",
    "            break\n",
    "        \n",
    "        elif data[i][col] == '.':\n",
    "           \n",
    "            pass\n",
    "        \n",
    "        elif data[i][col] == \"#\":\n",
    "        \n",
    "            return 1\n",
    "        \n",
    "        else:\n",
    "            \n",
    "            pass\n",
    "        \n",
    "    return 0"
   ]
  },
  {
   "cell_type": "code",
   "execution_count": 143,
   "metadata": {},
   "outputs": [],
   "source": [
    "def check_diagonal_left_up(row, col, data):\n",
    "    \n",
    "    \"\"\" \n",
    "    Takes as input row and col poistion of the seat as well as the data.\n",
    "    Checks left diagonal up. If first visible seat is occupied, return 1. Else,\n",
    "    return 0.      \n",
    "    \"\"\"\n",
    "    j = col\n",
    "    \n",
    "    for i in range(row - 1, -1, -1):\n",
    "        \n",
    "        j = j + 1\n",
    "        \n",
    "        if (i < 0) | (j >= len(data[row])):\n",
    "            \n",
    "            break         \n",
    "        \n",
    "        elif data[i][j] == \"L\":\n",
    "            \n",
    "            break\n",
    "            \n",
    "        elif data[i][j] == '.':\n",
    "            \n",
    "            pass\n",
    "        \n",
    "        elif data[i][j] == \"#\":\n",
    "            \n",
    "            return 1\n",
    "        \n",
    "        else:\n",
    "            \n",
    "            pass\n",
    "        \n",
    "    return 0"
   ]
  },
  {
   "cell_type": "code",
   "execution_count": 144,
   "metadata": {},
   "outputs": [],
   "source": [
    "def check_diagonal_right_up(row, col, data):\n",
    "    \n",
    "    \"\"\" \n",
    "    Takes as input row and col poistion of the seat as well as the data.\n",
    "    Checks right diagonal up. If first visible seat is occupied, return 1. Else,\n",
    "    return 0.      \n",
    "    \"\"\"\n",
    "   \n",
    "    j = col\n",
    "    \n",
    "    for i in range(row -1, -1, -1):\n",
    "    \n",
    "        j = j - 1\n",
    "    \n",
    "        if (i < 0) | (j < 0):\n",
    "        \n",
    "            break\n",
    "            \n",
    "        elif data[i][j] == \"L\":\n",
    "            \n",
    "            break\n",
    "            \n",
    "        elif data[i][j] == '.':\n",
    "            \n",
    "            pass\n",
    "        \n",
    "        elif data[i][j] == \"#\":\n",
    "            \n",
    "            return 1\n",
    "        \n",
    "        else:\n",
    "            \n",
    "            pass\n",
    "        \n",
    "    return 0"
   ]
  },
  {
   "cell_type": "code",
   "execution_count": 145,
   "metadata": {},
   "outputs": [],
   "source": [
    "def check_diagonal_left_down(row, col, data):\n",
    "    \n",
    "    \"\"\" \n",
    "    Takes as input row and col poistion of the seat as well as the data.\n",
    "    Checks left diagonal down. If first visible seat is occupied, return 1. Else,\n",
    "    return 0.      \n",
    "    \"\"\"\n",
    "    j = col\n",
    "    \n",
    "    for i in range(row + 1, len(data), 1):\n",
    "    \n",
    "        j = j + 1\n",
    "        \n",
    "        if (i >= len(data)) | (j >= len(data[row])):\n",
    "            \n",
    "            break\n",
    "                \n",
    "        if data[i][j] == \"L\":\n",
    "            \n",
    "            break\n",
    "            \n",
    "        elif data[i][j] == '.':\n",
    "            \n",
    "            pass\n",
    "        \n",
    "        elif data[i][j] == \"#\":\n",
    "            \n",
    "            return 1\n",
    "        \n",
    "        else:\n",
    "            \n",
    "            pass\n",
    "        \n",
    "    return 0"
   ]
  },
  {
   "cell_type": "code",
   "execution_count": 146,
   "metadata": {},
   "outputs": [],
   "source": [
    "def check_diagonal_right_down(row, col, data):\n",
    "    \n",
    "    \"\"\" \n",
    "    Takes as input row and col poistion of the seat as well as the data.\n",
    "    Checks right diagonal down. If first visible seat is occupied, return 1. Else,\n",
    "    return 0.      \n",
    "    \"\"\"\n",
    "    \n",
    "    j = col\n",
    "    \n",
    "    for i in range(row + 1, len(data), 1):\n",
    "    \n",
    "        j = j -1\n",
    "    \n",
    "        if (i >= len(data)) | (j < 0):\n",
    "        \n",
    "            break\n",
    "\n",
    "        if data[i][j] == \"L\":\n",
    "            \n",
    "            break\n",
    "            \n",
    "        elif data[i][j] == '.':\n",
    "            \n",
    "            pass\n",
    "        \n",
    "        elif data[i][j] == \"#\":\n",
    "            \n",
    "            return 1\n",
    "        \n",
    "        else:\n",
    "            \n",
    "            pass\n",
    "        \n",
    "    return 0"
   ]
  },
  {
   "cell_type": "code",
   "execution_count": 147,
   "metadata": {},
   "outputs": [],
   "source": [
    "def check_visible_occupied_seats(row, col, df):\n",
    "    \n",
    "    \"\"\"\n",
    "    Function takes as input the row and columns position of the seat in df. \n",
    "    Returns the number of visible occupied seats from that position\n",
    "    \"\"\"\n",
    "    \n",
    "    \n",
    "    number_of_visible_occupited_seats = []\n",
    "    number_of_visible_occupited_seats.append(check_left(row = row, col = col, data = df))\n",
    "    number_of_visible_occupited_seats.append(check_right(row = row, col = col, data = df))\n",
    "    number_of_visible_occupited_seats.append(check_down(row = row, col = col, data = df))\n",
    "    number_of_visible_occupited_seats.append(check_up(row = row, col = col, data = df))\n",
    "    number_of_visible_occupited_seats.append(check_diagonal_left_up(row = row, col = col, data = df))\n",
    "    number_of_visible_occupited_seats.append(check_diagonal_right_up(row = row, col = col, data = df))\n",
    "    number_of_visible_occupited_seats.append(check_diagonal_left_down(row = row, col = col, data = df))\n",
    "    number_of_visible_occupited_seats.append(check_diagonal_right_down(row = row, col = col, data = df))\n",
    "    \n",
    "    return np.sum(number_of_visible_occupited_seats)"
   ]
  },
  {
   "cell_type": "code",
   "execution_count": 148,
   "metadata": {},
   "outputs": [],
   "source": [
    "def check_if_spot_is_occupied(row_position, column_position, input_data):\n",
    "    \n",
    "    \"\"\"\n",
    "    Function takes as input row and column position and checks if that seat on\n",
    "    the input data is occupied. Returns 1 if it is occupied, 0 otherwise.\n",
    "    \n",
    "    \"\"\"\n",
    "    \n",
    "    if input_data[row_position][column_position] == \"#\":\n",
    "        \n",
    "        return 1\n",
    "    \n",
    "    else:\n",
    "        \n",
    "        return 0"
   ]
  },
  {
   "cell_type": "code",
   "execution_count": 149,
   "metadata": {},
   "outputs": [],
   "source": [
    "def convert_seat_modified(number_of_visible_occupied, seat_is_occupied, is_floor, seat):\n",
    "    \n",
    "    \n",
    "    if (seat_is_occupied == 0) & (number_of_visible_occupied == 0) & (is_floor == 0):\n",
    "        \n",
    "        return \"#\"\n",
    "    \n",
    "    elif (seat_is_occupied == 1) & (number_of_visible_occupied >= 5):\n",
    "        \n",
    "        return \"L\"\n",
    "    \n",
    "    elif is_floor == 1:\n",
    "        \n",
    "        return '.'\n",
    "    \n",
    "    else: \n",
    "        \n",
    "        return seat"
   ]
  },
  {
   "cell_type": "code",
   "execution_count": 150,
   "metadata": {},
   "outputs": [],
   "source": [
    "def get_new_arrangment_modified(input_data, number_of_rows, number_of_cols):\n",
    "    \n",
    "    new_arrangment = []\n",
    "    \n",
    "    for row in range(number_of_rows):\n",
    "        \n",
    "        new_row = \"\"\n",
    "        \n",
    "        for col in range(number_of_cols):\n",
    "            \n",
    "            number_of_visible_occupied = check_visible_occupied_seats(row, col, input_data)\n",
    "            seat_is_occupied = check_if_spot_is_occupied(row,col,input_data)\n",
    "            is_floor = check_if_floor(row, col, input_data)\n",
    "            new_seat = convert_seat_modified(number_of_visible_occupied, seat_is_occupied, is_floor, input_data[row][col])\n",
    "            new_row = new_row + new_seat\n",
    "            \n",
    "        new_arrangment.append(new_row)\n",
    "        \n",
    "    return new_arrangment"
   ]
  },
  {
   "cell_type": "code",
   "execution_count": 151,
   "metadata": {},
   "outputs": [],
   "source": [
    "def find_steady_state(df, number_of_rows, number_of_cols):  \n",
    "    \n",
    "      \n",
    "    new_arrangment = get_new_arrangment_modified(input_data = df, number_of_rows = number_of_rows, number_of_cols = number_of_cols)\n",
    "\n",
    "    if new_arrangment == df:\n",
    "        \n",
    "        return new_arrangment\n",
    "    \n",
    "    return find_steady_state(new_arrangment, number_of_rows, number_of_cols)  "
   ]
  },
  {
   "cell_type": "code",
   "execution_count": 157,
   "metadata": {},
   "outputs": [],
   "source": [
    "df = load_data()"
   ]
  },
  {
   "cell_type": "code",
   "execution_count": 158,
   "metadata": {},
   "outputs": [],
   "source": [
    "number_of_rows = len(df)"
   ]
  },
  {
   "cell_type": "code",
   "execution_count": 159,
   "metadata": {},
   "outputs": [],
   "source": [
    "number_of_cols = len(df[0])"
   ]
  },
  {
   "cell_type": "code",
   "execution_count": 160,
   "metadata": {},
   "outputs": [],
   "source": [
    "steady_state = find_steady_state(df, number_of_rows, number_of_cols)"
   ]
  },
  {
   "cell_type": "code",
   "execution_count": 161,
   "metadata": {},
   "outputs": [],
   "source": [
    "total = 0\n",
    "\n",
    "for x in steady_state:\n",
    "    \n",
    "    total += x.count(\"#\")"
   ]
  },
  {
   "cell_type": "code",
   "execution_count": 162,
   "metadata": {},
   "outputs": [
    {
     "name": "stdout",
     "output_type": "stream",
     "text": [
      "There are 2208 occupied seats in steady state\n"
     ]
    }
   ],
   "source": [
    "print(\"There are {} occupied seats in steady state\".format(total))"
   ]
  }
 ],
 "metadata": {
  "kernelspec": {
   "display_name": "Python 3",
   "language": "python",
   "name": "python3"
  },
  "language_info": {
   "codemirror_mode": {
    "name": "ipython",
    "version": 3
   },
   "file_extension": ".py",
   "mimetype": "text/x-python",
   "name": "python",
   "nbconvert_exporter": "python",
   "pygments_lexer": "ipython3",
   "version": "3.6.0"
  }
 },
 "nbformat": 4,
 "nbformat_minor": 2
}
