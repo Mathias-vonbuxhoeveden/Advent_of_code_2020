{
 "cells": [
  {
   "cell_type": "code",
   "execution_count": 122,
   "metadata": {},
   "outputs": [],
   "source": [
    "import pandas as pd\n",
    "import numpy as np"
   ]
  },
  {
   "cell_type": "code",
   "execution_count": 123,
   "metadata": {},
   "outputs": [],
   "source": [
    "#Part 1"
   ]
  },
  {
   "cell_type": "code",
   "execution_count": 124,
   "metadata": {},
   "outputs": [],
   "source": [
    "def load_data():\n",
    "    \n",
    "    df = pd.read_csv('input_data.csv', header = None)\n",
    "    df.columns = ['data']\n",
    "    df = df.data.tolist()\n",
    "    \n",
    "    return df  "
   ]
  },
  {
   "cell_type": "code",
   "execution_count": 125,
   "metadata": {},
   "outputs": [],
   "source": [
    "def check_if_spot_is_occupied(row_position, column_position, input_data):\n",
    "    \n",
    "    \"\"\"\n",
    "    Function takes as input row and column position and checks if that seat on\n",
    "    the input data is occupied. Returns 1 if it is occupied, 0 otherwise.\n",
    "    \n",
    "    \"\"\"\n",
    "    \n",
    "    if input_data[row_position][column_position] == \"#\":\n",
    "        \n",
    "        return 1\n",
    "    \n",
    "    else:\n",
    "        \n",
    "        return 0"
   ]
  },
  {
   "cell_type": "code",
   "execution_count": 126,
   "metadata": {},
   "outputs": [],
   "source": [
    "def check_if_seat_exists(row_position, column_position, input_data):\n",
    "    \n",
    "    \n",
    "    \"\"\"Function takes as input row and column position and checks if that seat exists\n",
    "       on input data. Returns 1 if it is occupied, 0 otherwise.\"\"\"\n",
    "    \n",
    "    if row_position < 0:\n",
    "        \n",
    "        return 0\n",
    "    \n",
    "    elif row_position >= len(input_data):\n",
    "        \n",
    "        return 0\n",
    "    \n",
    "    elif column_position < 0:\n",
    "        \n",
    "        return 0\n",
    "    \n",
    "    elif column_position >= (len(input_data[0])):\n",
    "        \n",
    "        return 0\n",
    "    \n",
    "    else:\n",
    "        \n",
    "        return 1  "
   ]
  },
  {
   "cell_type": "code",
   "execution_count": 127,
   "metadata": {},
   "outputs": [],
   "source": [
    "def check_if_floor(row_position, column_position, input_data):\n",
    "    \n",
    "    if input_data[row_position][column_position] == '.':\n",
    "        \n",
    "        return 1\n",
    "    \n",
    "    else:\n",
    "        \n",
    "        return 0"
   ]
  },
  {
   "cell_type": "code",
   "execution_count": 128,
   "metadata": {},
   "outputs": [],
   "source": [
    "def check_number_of_occupied_adjacent_seats(row_position, column_position, input_data):\n",
    "    \n",
    "    \"\"\"\n",
    "    Function takes as input row_position and column_position and return a count\n",
    "    on the number of occupied adjact seats\n",
    "    \n",
    "    \"\"\"\n",
    "    \n",
    "    seat_left = (row_position, column_position - 1)\n",
    "    seat_right = (row_position, column_position + 1)\n",
    "    seat_below = (row_position + 1, column_position)\n",
    "    seat_above = (row_position - 1, column_position)\n",
    "    seat_above_left = (row_position -1, column_position - 1)\n",
    "    seat_above_right = (row_position -1, column_position + 1)\n",
    "    seat_below_left =  (row_position +1, column_position - 1)\n",
    "    seat_below_right = (row_position +1, column_position + 1)\n",
    "    \n",
    "    adjacent_seats = [seat_left, seat_right, seat_below, seat_above, seat_above_left, seat_above_right, seat_below_left, seat_below_right]\n",
    "    number_of_occupied_seats = []\n",
    "    \n",
    "    for seats in adjacent_seats:\n",
    "        \n",
    "        row_number, column_number = seats\n",
    "        seat_exist = check_if_seat_exists(row_number,column_number,input_data)\n",
    "            \n",
    "        if seat_exist == 0:\n",
    "                \n",
    "            number_of_occupied_seats.append(0)\n",
    "\n",
    "        else:\n",
    "                \n",
    "            number_of_occupied_seats.append(check_if_spot_is_occupied(row_number, column_number, input_data))\n",
    "    \n",
    "        \n",
    "    return np.sum(number_of_occupied_seats)"
   ]
  },
  {
   "cell_type": "code",
   "execution_count": 129,
   "metadata": {},
   "outputs": [],
   "source": [
    "def convert_seat(number_of_adjacted_occupied, seat_is_occupied, is_floor, seat):\n",
    "    \n",
    "    \n",
    "    if (seat_is_occupied == 0) & (number_of_adjacted_occupied == 0) & (is_floor == 0):\n",
    "        \n",
    "        return \"#\"\n",
    "    \n",
    "    elif (seat_is_occupied == 1) & (number_of_adjacted_occupied >= 4):\n",
    "        \n",
    "        return \"L\"\n",
    "    \n",
    "    elif is_floor == 1:\n",
    "        \n",
    "        return '.'\n",
    "    \n",
    "    else: \n",
    "        \n",
    "        return seat"
   ]
  },
  {
   "cell_type": "code",
   "execution_count": 130,
   "metadata": {},
   "outputs": [],
   "source": [
    "def get_new_arrangment(input_data, number_of_rows, number_of_cols):\n",
    "    \n",
    "    new_arrangment = []\n",
    "    \n",
    "    for row in range(number_of_rows):\n",
    "        \n",
    "        new_row = \"\"\n",
    "        \n",
    "        for col in range(number_of_cols):\n",
    "            \n",
    "            number_of_adjacted_occupied = check_number_of_occupied_adjacent_seats(row, col, input_data)\n",
    "            seat_is_occupied = check_if_spot_is_occupied(row,col,input_data)\n",
    "            is_floor = check_if_floor(row, col, input_data)\n",
    "            new_seat = convert_seat(number_of_adjacted_occupied, seat_is_occupied, is_floor, input_data[row][col])\n",
    "            new_row = new_row + new_seat\n",
    "            \n",
    "        new_arrangment.append(new_row)\n",
    "        \n",
    "    return new_arrangment"
   ]
  },
  {
   "cell_type": "code",
   "execution_count": 131,
   "metadata": {},
   "outputs": [],
   "source": [
    "def find_steady_state(df, number_of_rows, number_of_cols):  \n",
    "    \n",
    "      \n",
    "    new_arrangment = get_new_arrangment(input_data = df, number_of_rows = number_of_rows, number_of_cols = number_of_cols)\n",
    "\n",
    "    if df == new_arrangment:\n",
    "        \n",
    "        return new_arrangment\n",
    "    \n",
    "    return find_steady_state(new_arrangment, number_of_rows, number_of_cols)  "
   ]
  },
  {
   "cell_type": "code",
   "execution_count": 132,
   "metadata": {},
   "outputs": [],
   "source": [
    "df = load_data()"
   ]
  },
  {
   "cell_type": "code",
   "execution_count": 133,
   "metadata": {},
   "outputs": [],
   "source": [
    "number_of_rows = len(df)"
   ]
  },
  {
   "cell_type": "code",
   "execution_count": 134,
   "metadata": {},
   "outputs": [],
   "source": [
    "number_of_cols = len(df[0])"
   ]
  },
  {
   "cell_type": "code",
   "execution_count": 135,
   "metadata": {},
   "outputs": [],
   "source": [
    "steady_state = find_steady_state(df, number_of_rows, number_of_cols)"
   ]
  },
  {
   "cell_type": "code",
   "execution_count": 136,
   "metadata": {},
   "outputs": [],
   "source": [
    "total = 0\n",
    "\n",
    "for x in steady_state:\n",
    "    \n",
    "    total += x.count(\"#\")"
   ]
  },
  {
   "cell_type": "code",
   "execution_count": 137,
   "metadata": {
    "scrolled": true
   },
   "outputs": [
    {
     "name": "stdout",
     "output_type": "stream",
     "text": [
      "There are 2424 occupied seats in steady state\n"
     ]
    }
   ],
   "source": [
    "print(\"There are {} occupied seats in steady state\".format(total))"
   ]
  },
  {
   "cell_type": "code",
   "execution_count": 138,
   "metadata": {},
   "outputs": [],
   "source": [
    "#Part 2"
   ]
  },
  {
   "cell_type": "code",
   "execution_count": 139,
   "metadata": {},
   "outputs": [],
   "source": [
    "def check_left(row, col, data):\n",
    "    \n",
    "    \"\"\"\n",
    "    Takes as input row and col position of seat as well as the data.\n",
    "    Checks left. If first visible seat is occupied, return 1. Else,\n",
    "    return 0.    \n",
    "    \n",
    "    \"\"\"\n",
    "    \n",
    "    string_to_check = data[row]\n",
    "   \n",
    "    for i in range(col - 1,-1, -1):\n",
    "    \n",
    "        if string_to_check[i]  == \"L\":\n",
    "            \n",
    "            break\n",
    "        \n",
    "        elif string_to_check[i] == '.':\n",
    "           \n",
    "            pass\n",
    "        \n",
    "        elif string_to_check[i] == \"#\":\n",
    "        \n",
    "            return 1\n",
    "        \n",
    "        else:\n",
    "            \n",
    "            pass\n",
    "        \n",
    "    return 0"
   ]
  },
  {
   "cell_type": "code",
   "execution_count": 140,
   "metadata": {},
   "outputs": [],
   "source": [
    "def check_right(row, col, data):\n",
    "    \n",
    "    \"\"\" \n",
    "    Takes as input row and col position of seat as well as the data.\n",
    "    Checks right. If first visible seat is occupied, return 1. Else,\n",
    "    return 0.  \n",
    "    \"\"\"\n",
    "    \n",
    "    string_to_check = data[row]\n",
    "    \n",
    "    for i in range(col + 1,len(string_to_check)):\n",
    "        \n",
    "        if string_to_check[i]  == \"L\":\n",
    "            \n",
    "            break\n",
    "        \n",
    "        elif string_to_check[i] == '.':\n",
    "           \n",
    "            pass\n",
    "        \n",
    "        elif string_to_check[i] == \"#\":\n",
    "        \n",
    "            return 1\n",
    "        \n",
    "        else:\n",
    "            \n",
    "            pass\n",
    "        \n",
    "    return 0   "
   ]
  },
  {
   "cell_type": "code",
   "execution_count": 141,
   "metadata": {},
   "outputs": [],
   "source": [
    "def check_down(row, col, data):\n",
    "    \n",
    "    \"\"\" \n",
    "    Takes as input row and col poistion of the seat as well as the data.\n",
    "    Checks down. If first visible seat is occupied, return 1. Else,\n",
    "    return 0.      \n",
    "    \"\"\"\n",
    "    for i in range(row + 1, len(data), 1):\n",
    "        \n",
    "        if data[i][col]  == \"L\":\n",
    "            \n",
    "            break\n",
    "        \n",
    "        elif data[i][col] == '.':\n",
    "           \n",
    "            pass\n",
    "        \n",
    "        elif data[i][col] == \"#\":\n",
    "        \n",
    "            return 1\n",
    "        \n",
    "        else:\n",
    "            \n",
    "            pass\n",
    "        \n",
    "    return 0"
   ]
  },
  {
   "cell_type": "code",
   "execution_count": 142,
   "metadata": {},
   "outputs": [],
   "source": [
    "def check_up(row, col, data):\n",
    "    \n",
    "    \"\"\" \n",
    "    Takes as input row and col poistion of the seat as well as the data.\n",
    "    Checks up. If first visible seat is occupied, return 1. Else,\n",
    "    return 0.      \n",
    "    \"\"\"\n",
    "    \n",
    "    for i in range(row - 1, -1, -1):        \n",
    "        \n",
    "        if data[i][col]  == \"L\":\n",
    "            \n",
    "            break\n",
    "        \n",
    "        elif data[i][col] == '.':\n",
    "           \n",
    "            pass\n",
    "        \n",
    "        elif data[i][col] == \"#\":\n",
    "        \n",
    "            return 1\n",
    "        \n",
    "        else:\n",
    "            \n",
    "            pass\n",
    "        \n",
    "    return 0"
   ]
  },
  {
   "cell_type": "code",
   "execution_count": 143,
   "metadata": {},
   "outputs": [],
   "source": [
    "def check_diagonal_left_up(row, col, data):\n",
    "    \n",
    "    \"\"\" \n",
    "    Takes as input row and col poistion of the seat as well as the data.\n",
    "    Checks left diagonal up. If first visible seat is occupied, return 1. Else,\n",
    "    return 0.      \n",
    "    \"\"\"\n",
    "    j = col\n",
    "    \n",
    "    for i in range(row - 1, -1, -1):\n",
    "        \n",
    "        j = j + 1\n",
    "        \n",
    "        if (i < 0) | (j >= len(data[row])):\n",
    "            \n",
    "            break         \n",
    "        \n",
    "        elif data[i][j] == \"L\":\n",
    "            \n",
    "            break\n",
    "            \n",
    "        elif data[i][j] == '.':\n",
    "            \n",
    "            pass\n",
    "        \n",
    "        elif data[i][j] == \"#\":\n",
    "            \n",
    "            return 1\n",
    "        \n",
    "        else:\n",
    "            \n",
    "            pass\n",
    "        \n",
    "    return 0"
   ]
  },
  {
   "cell_type": "code",
   "execution_count": 144,
   "metadata": {},
   "outputs": [],
   "source": [
    "def check_diagonal_right_up(row, col, data):\n",
    "    \n",
    "    \"\"\" \n",
    "    Takes as input row and col poistion of the seat as well as the data.\n",
    "    Checks right diagonal up. If first visible seat is occupied, return 1. Else,\n",
    "    return 0.      \n",
    "    \"\"\"\n",
    "   \n",
    "    j = col\n",
    "    \n",
    "    for i in range(row -1, -1, -1):\n",
    "    \n",
    "        j = j - 1\n",
    "    \n",
    "        if (i < 0) | (j < 0):\n",
    "        \n",
    "            break\n",
    "            \n",
    "        elif data[i][j] == \"L\":\n",
    "            \n",
    "            break\n",
    "            \n",
    "        elif data[i][j] == '.':\n",
    "            \n",
    "            pass\n",
    "        \n",
    "        elif data[i][j] == \"#\":\n",
    "            \n",
    "            return 1\n",
    "        \n",
    "        else:\n",
    "            \n",
    "            pass\n",
    "        \n",
    "    return 0"
   ]
  },
  {
   "cell_type": "code",
   "execution_count": 145,
   "metadata": {},
   "outputs": [],
   "source": [
    "def check_diagonal_left_down(row, col, data):\n",
    "    \n",
    "    \"\"\" \n",
    "    Takes as input row and col poistion of the seat as well as the data.\n",
    "    Checks left diagonal down. If first visible seat is occupied, return 1. Else,\n",
    "    return 0.      \n",
    "    \"\"\"\n",
    "    j = col\n",
    "    \n",
    "    for i in range(row + 1, len(data), 1):\n",
    "    \n",
    "        j = j + 1\n",
    "        \n",
    "        if (i >= len(data)) | (j >= len(data[row])):\n",
    "            \n",
    "            break\n",
    "                \n",
    "        if data[i][j] == \"L\":\n",
    "            \n",
    "            break\n",
    "            \n",
    "        elif data[i][j] == '.':\n",
    "            \n",
    "            pass\n",
    "        \n",
    "        elif data[i][j] == \"#\":\n",
    "            \n",
    "            return 1\n",
    "        \n",
    "        else:\n",
    "            \n",
    "            pass\n",
    "        \n",
    "    return 0"
   ]
  },
  {
   "cell_type": "code",
   "execution_count": 146,
   "metadata": {},
   "outputs": [],
   "source": [
    "def check_diagonal_right_down(row, col, data):\n",
    "    \n",
    "    \"\"\" \n",
    "    Takes as input row and col poistion of the seat as well as the data.\n",
    "    Checks right diagonal down. If first visible seat is occupied, return 1. Else,\n",
    "    return 0.      \n",
    "    \"\"\"\n",
    "    \n",
    "    j = col\n",
    "    \n",
    "    for i in range(row + 1, len(data), 1):\n",
    "    \n",
    "        j = j -1\n",
    "    \n",
    "        if (i >= len(data)) | (j < 0):\n",
    "        \n",
    "            break\n",
    "\n",
    "        if data[i][j] == \"L\":\n",
    "            \n",
    "            break\n",
    "            \n",
    "        elif data[i][j] == '.':\n",
    "            \n",
    "            pass\n",
    "        \n",
    "        elif data[i][j] == \"#\":\n",
    "            \n",
    "            return 1\n",
    "        \n",
    "        else:\n",
    "            \n",
    "            pass\n",
    "        \n",
    "    return 0"
   ]
  },
  {
   "cell_type": "code",
   "execution_count": 147,
   "metadata": {},
   "outputs": [],
   "source": [
    "def check_visible_occupied_seats(row, col, df):\n",
    "    \n",
    "    \"\"\"\n",
    "    Function takes as input the row and columns position of the seat in df. \n",
    "    Returns the number of visible occupied seats from that position\n",
    "    \"\"\"\n",
    "    \n",
    "    \n",
    "    number_of_visible_occupited_seats = []\n",
    "    number_of_visible_occupited_seats.append(check_left(row = row, col = col, data = df))\n",
    "    number_of_visible_occupited_seats.append(check_right(row = row, col = col, data = df))\n",
    "    number_of_visible_occupited_seats.append(check_down(row = row, col = col, data = df))\n",
    "    number_of_visible_occupited_seats.append(check_up(row = row, col = col, data = df))\n",
    "    number_of_visible_occupited_seats.append(check_diagonal_left_up(row = row, col = col, data = df))\n",
    "    number_of_visible_occupited_seats.append(check_diagonal_right_up(row = row, col = col, data = df))\n",
    "    number_of_visible_occupited_seats.append(check_diagonal_left_down(row = row, col = col, data = df))\n",
    "    number_of_visible_occupited_seats.append(check_diagonal_right_down(row = row, col = col, data = df))\n",
    "    \n",
    "    return np.sum(number_of_visible_occupited_seats)"
   ]
  },
  {
   "cell_type": "code",
   "execution_count": 148,
   "metadata": {},
   "outputs": [],
   "source": [
    "def check_if_spot_is_occupied(row_position, column_position, input_data):\n",
    "    \n",
    "    \"\"\"\n",
    "    Function takes as input row and column position and checks if that seat on\n",
    "    the input data is occupied. Returns 1 if it is occupied, 0 otherwise.\n",
    "    \n",
    "    \"\"\"\n",
    "    \n",
    "    if input_data[row_position][column_position] == \"#\":\n",
    "        \n",
    "        return 1\n",
    "    \n",
    "    else:\n",
    "        \n",
    "        return 0"
   ]
  },
  {
   "cell_type": "code",
   "execution_count": 149,
   "metadata": {},
   "outputs": [],
   "source": [
    "def convert_seat_modified(number_of_visible_occupied, seat_is_occupied, is_floor, seat):\n",
    "    \n",
    "    \n",
    "    if (seat_is_occupied == 0) & (number_of_visible_occupied == 0) & (is_floor == 0):\n",
    "        \n",
    "        return \"#\"\n",
    "    \n",
    "    elif (seat_is_occupied == 1) & (number_of_visible_occupied >= 5):\n",
    "        \n",
    "        return \"L\"\n",
    "    \n",
    "    elif is_floor == 1:\n",
    "        \n",
    "        return '.'\n",
    "    \n",
    "    else: \n",
    "        \n",
    "        return seat"
   ]
  },
  {
   "cell_type": "code",
   "execution_count": 150,
   "metadata": {},
   "outputs": [],
   "source": [
    "def get_new_arrangment_modified(input_data, number_of_rows, number_of_cols):\n",
    "    \n",
    "    new_arrangment = []\n",
    "    \n",
    "    for row in range(number_of_rows):\n",
    "        \n",
    "        new_row = \"\"\n",
    "        \n",
    "        for col in range(number_of_cols):\n",
    "            \n",
    "            number_of_visible_occupied = check_visible_occupied_seats(row, col, input_data)\n",
    "            seat_is_occupied = check_if_spot_is_occupied(row,col,input_data)\n",
    "            is_floor = check_if_floor(row, col, input_data)\n",
    "            new_seat = convert_seat_modified(number_of_visible_occupied, seat_is_occupied, is_floor, input_data[row][col])\n",
    "            new_row = new_row + new_seat\n",
    "            \n",
    "        new_arrangment.append(new_row)\n",
    "        \n",
    "    return new_arrangment"
   ]
  },
  {
   "cell_type": "code",
   "execution_count": 151,
   "metadata": {},
   "outputs": [],
   "source": [
    "def find_steady_state(df, number_of_rows, number_of_cols):  \n",
    "    \n",
    "      \n",
    "    new_arrangment = get_new_arrangment_modified(input_data = df, number_of_rows = number_of_rows, number_of_cols = number_of_cols)\n",
    "\n",
    "    if new_arrangment == df:\n",
    "        \n",
    "        return new_arrangment\n",
    "    \n",
    "    return find_steady_state(new_arrangment, number_of_rows, number_of_cols)  "
   ]
  },
  {
   "cell_type": "code",
   "execution_count": 152,
   "metadata": {},
   "outputs": [],
   "source": [
    "df = load_data()"
   ]
  },
  {
   "cell_type": "code",
   "execution_count": 153,
   "metadata": {},
   "outputs": [],
   "source": [
    "number_of_rows = len(df)"
   ]
  },
  {
   "cell_type": "code",
   "execution_count": 154,
   "metadata": {},
   "outputs": [],
   "source": [
    "number_of_cols = len(df[0])"
   ]
  },
  {
   "cell_type": "code",
   "execution_count": null,
   "metadata": {},
   "outputs": [],
   "source": []
  },
  {
   "cell_type": "code",
   "execution_count": 120,
   "metadata": {},
   "outputs": [],
   "source": [
    "def check_diagonal_right_down(row, col, data):\n",
    "    \n",
    "    \"\"\" \n",
    "    Takes as input row and col poistion of the seat as well as the data.\n",
    "    Checks right diagonal down. If first visible seat is occupied, return 1. Else,\n",
    "    return 0.      \n",
    "    \"\"\"\n",
    "    \n",
    "    j = col\n",
    "    \n",
    "    for i in range(row + 1, len(data), 1):\n",
    "    \n",
    "        j = j  + 1\n",
    "    \n",
    "        if (i >= len(data)) | (j < 0):\n",
    "        \n",
    "            break\n",
    "\n",
    "        if data[i][j] == \"L\":\n",
    "            \n",
    "            break\n",
    "            \n",
    "        elif data[i][j] == '.':\n",
    "            \n",
    "            pass\n",
    "        \n",
    "        elif data[i][j] == \"#\":\n",
    "            \n",
    "            return 1\n",
    "        \n",
    "        else:\n",
    "            \n",
    "            pass\n",
    "        print(i,j)\n",
    "        \n",
    "    return 0"
   ]
  },
  {
   "cell_type": "code",
   "execution_count": 121,
   "metadata": {},
   "outputs": [
    {
     "data": {
      "text/plain": [
       "1"
      ]
     },
     "execution_count": 121,
     "metadata": {},
     "output_type": "execute_result"
    }
   ],
   "source": [
    "check_diagonal_right_down(0, 0, df)"
   ]
  },
  {
   "cell_type": "code",
   "execution_count": 111,
   "metadata": {},
   "outputs": [
    {
     "data": {
      "text/plain": [
       "'#'"
      ]
     },
     "execution_count": 111,
     "metadata": {},
     "output_type": "execute_result"
    }
   ],
   "source": [
    "df[0][0]"
   ]
  },
  {
   "cell_type": "code",
   "execution_count": 119,
   "metadata": {
    "scrolled": true
   },
   "outputs": [
    {
     "data": {
      "text/plain": [
       "'#'"
      ]
     },
     "execution_count": 119,
     "metadata": {},
     "output_type": "execute_result"
    }
   ],
   "source": [
    "df[1][1]"
   ]
  },
  {
   "cell_type": "code",
   "execution_count": null,
   "metadata": {},
   "outputs": [],
   "source": []
  },
  {
   "cell_type": "code",
   "execution_count": null,
   "metadata": {},
   "outputs": [],
   "source": []
  },
  {
   "cell_type": "code",
   "execution_count": null,
   "metadata": {},
   "outputs": [],
   "source": []
  },
  {
   "cell_type": "code",
   "execution_count": null,
   "metadata": {},
   "outputs": [],
   "source": []
  },
  {
   "cell_type": "code",
   "execution_count": 46,
   "metadata": {},
   "outputs": [],
   "source": [
    "total = 0\n",
    "\n",
    "for x in steady_state:\n",
    "    \n",
    "    total += x.count(\"#\")"
   ]
  },
  {
   "cell_type": "code",
   "execution_count": 47,
   "metadata": {},
   "outputs": [
    {
     "name": "stdout",
     "output_type": "stream",
     "text": [
      "There are 2822 occupied seats in steady state\n"
     ]
    }
   ],
   "source": [
    "print(\"There are {} occupied seats in steady state\".format(total))"
   ]
  },
  {
   "cell_type": "code",
   "execution_count": 48,
   "metadata": {},
   "outputs": [
    {
     "data": {
      "text/plain": [
       "['#L#L#L.#L#L#L#L#L.#L#L#L.#L#L#L#L#.L#L#..L#L#.L#L#L#.L#L#.L#L#L#L#L#L#L#L#L#L#L#L#L#L#L#L#L#L#L#',\n",
       " 'L#L#L#LL#L#.LL#L#.L#L#L#.L#L#L#L#L.#.LL#.LL#L.#L#L#L.#L#L.#L#L#L#LL.#L#L#L#L.L#L#L.L#L#L#L#L#L#L',\n",
       " '#LLLLL.#LLL.#LLLL.#LLLLL.#LLLLLLLL.LL#LL.#L.L.LLLL##.LLL#.LLLLLLLL#.LLLLLL.L#LLLLL#LL.LLLLLLLLL#',\n",
       " 'L#L#L#.L#L#.L##L#.LL#L##.LL#L#L#LL.#LL#L.LLLL..#L#LL#L#LL.##L#L#L#LL#L#L#L.#L#L#L#L#L#LL#L.#L.#L',\n",
       " '#L#L#L.#L#L.#LL#L.#LL#LL.#LL#L#L##.L#LLL#L#L#L#L#LL#.L#L#.LL#L#LLLL#L#L#L#LLLL#L#L.L#LL#L##LL#L#',\n",
       " '..L.L....#.LL.#.L..#..L..L#.....LL.#..L...L#....L..L.#L...#LLL.LL.#.LL....L.#.L.LL#L.#....L.....',\n",
       " 'L#L#LL#LLL#L#LLL#LLLLL#L.#LLL#L#L#.LL#L#.LLL...#LL##.LL#L#L#L#LL#LL.#L#L#L##L#L#LL.#LL#LLL#L#L#L',\n",
       " '#L#L#L.L#LL.L#LLL.#L#LL#.LL#LL#L#L..#L#LL#.LL.LL#LLL.#LL#.LL#LL#LL#LL#L#L#LL#L#LL#.L#LLL#L.#LLL#',\n",
       " 'LLLLL#.LL#L.LL#L#.L#L#LL.#LL#LLLLL.#L#LL.L#L#.L#L#L#.L#LLL#LLL#LL#..LLLLLL#LLLLL#LL#L.L#L#.LLL#L',\n",
       " '.#L#LL.#LLL#L#L#L..LLL.#.L#LL#L#L#.LLLL#.LLLL#.L#L.L.#LLL#LL#LL#LLL.L#L#L#.L#L#LLL#LL#LLLLL#L#L#',\n",
       " '#L#L##LL#L..#L#LL.#L#L#L.#LL#LLL#L#L#LL..#L#L.#LLL#L.LL#L.##LL#L#L#L#L#L#L.#L#LL#L.L#L#LL#.L#LLL',\n",
       " 'L.L......L..LLL.L......#.LL..#.L.........L......#...L#.L#.L..#L..........#...L..L#...L.#.L....#.',\n",
       " '#LL#LL.#L#L.L#L#L#L#L#LL#L#LLL#LL#L#L##L.L#L#.L#L#L#.L#LL.#LLLL#L#L#L#L#LLLLLLL#LLL#L#LL#L#LL#L#',\n",
       " 'L#LL#L#LLL#.LL#L..#LLL#L.LL#L#L#LL.L#LL#L#L#L.LLLL#L.LLL#.LL#L#L#LL.#L#LL#.L#L#LL#.L#LL#LL.##L#L',\n",
       " '#L#LL#.L#LL.#LLL#L.L#LLLL#LL#L#LLL.LLLL.#LLLL.#L#LLL.LL#LL##LLLLLL#.LLLL#L.#L#L#.L.LLL#LL#.LLLL#',\n",
       " 'L#LLLL.#L.#.L##LL.L#L#L#LL#LLLLL#L.#L##LLL#L#LLLL#LL.#LL#.LL##L#L#L.#L#L.#.LLLLL#L#L#LLL#L.L#L#L',\n",
       " '#LL#L#LLL.L.#LL#L.#LLL#L.#LL#L#LL#.L#LL#L#L#L.#L#L##.LL#L.L#LL#L.L#.L#L#LL.#L#L#LLL#LL#LLL.#L#L#',\n",
       " 'L#LL#L.#L##.LL#L.#LL#LLL#L#LL#L#LL#LLL#L.L#LL.L#L#.L#L#L#.LL#LLL#LL.LLLLL#.L#L#LL#.LL#LL##.LLL#L',\n",
       " '#L#LLL.L#LLL#LLLLL#LL#LL.#L#.LLL#L.L#LLL.LLL#.LLLLL#LLLLL.L#L#L#LL#L#L#L#L.LLLLL#L#L#LL#LL.##LL#',\n",
       " 'L#LL#L#LLL#.L#L#L.L#LL##.LLLL#.LLLL#L#L#L#LLL.#L#L#L.#L#L.#L#LLLL#L#LLLLL#.#L#L#L#.LLL#LL#LLLL#L',\n",
       " '#L#LL#L#L#L#LLLL#.LLL#LLL#L#LL#L##.LLL#L#L#L#.L#L#L##L#L#.LLLL##LLLLL#L#LL.L#LLLLL.L#LLL#L.#L#L#',\n",
       " '......L..L..#....L.#..L#LL.L.#..L..#.LL...............#L.....L....#L#.L...#L...#.......L....L...',\n",
       " 'L#L#LL.L#L#.LL.#L.#L#L#L.L#L#L.#LL#L#LL#.#L#L#LL#LLL.LLLL.L#L#LLL#L.LL#LL#.#LL#L#L.#L#L#L#.L#L#L',\n",
       " '#.LL#L.#L#LLLL#L#.LLL#LL.#LLLLLL#LLLL#.L.L#LL.#LL##L.#L#L.#L#L#L#LL.L#LL#LLLL#LLL#.L#L#LLL.#L#L#',\n",
       " 'LL.#L##LLLL.##LLL.#LLLL#LLL#L#L#L.#L#LLL.LLL#.L#LLL#.L#L#.LLLLL#LL#.LLL#L#.L#LL#LL.LLLLLL#.LLL#L',\n",
       " '#L#L#L.##L#.LL#L#.L##L#L#L#L#L#L##.LL##..L#LL.#LL#LLLLLLL.#L#.LLL#L#L#LL#L.LL##LL#.L#L#L#LL##LL#',\n",
       " '.#..L.L..#L..#...L#L.#L.....L.....L.#....L...LL..L##..L#..L.L.#L....#L#LLL#..L..#LL......#......',\n",
       " 'LLL#L#.LLLL#LLL#L#LLLLL#.L.#L#LLLL.#LLL#.LL.#L#L.#LL#L#LL#L#L#LL#L#.LLLL#L.#L#LLLL.#L#L#LL.LLL#L',\n",
       " '#L#L#L.L#L#.L.#L#.L#L#LL.#LL#L#L##.L#L#L.#L#L#L#LLLL.#LLL.#L.LL#L#L.L#L#L#.L#L#L#L.L#L#L#L##L#L#',\n",
       " 'L#L#LL.#L#L.#LL#LL#L#L##LLLLLLL#LL#LL#L#LLLLL.LL#L#L.LLL#.LL#LLLLLL.#L#LLLLLL#L#LL#LL.LLLL.L#L#L',\n",
       " '#LLLL#.LLLL.L#LLL#LLLLLL#L#L#LLLL#.LLLLL.##L#.L#LL.LL#L#L.L#LL#L#L#LLLLLL#L#LLLLLL.#L#L#L#.LLLL#',\n",
       " 'L#L#LL.#L##L#LL#L.#L#L#L.#L#L#L#LL.#L#L#.LL#L.#L##.L#L#LL.#LL#L#L#L#LL#L#L.L#L#L#..L#L#LLLL#L#LL',\n",
       " '#..L..#L......#L.L.....#...L.L#.L.L..L.L..#..L.L....L.#..LL.#L.L.LL............#.....L....L#.L#.',\n",
       " 'LL#L#LL#LLL.L#L#L#L#L#LLLL#L#LL.#L#L#L#L#LLL#.LLLLL#.LLL..#LLL#L#L#.L#L#LL##L#LLL#L#L#LLL.#LL#L#',\n",
       " '#LL#L#LL#L##LLLL#LLLLL#L.#LLL##LL#.LLLL#.#L#L.L#L##L.#LL#.L#L#L#L#L.#LL#L#.L#L#L#L.LL#L#L#.L#L#L',\n",
       " 'L#LLLL#LL#L.#L#LL.#L#LLL.L#L#LL#LLL#L#LLLL#L#L#L#LL#.LL.L#LL#LLLLL#.LL#LLL.LLLLLLL#L#L#L#LLLLLL#',\n",
       " '#L#L#LLL#LLLL#L#L#L#L#L##LL#L#LL#...LL.#.LLLL.LLLLLL.###L.#LLL#L#LL.##LL#L.#L##L#L.#LLLLLL.#L#.L',\n",
       " 'L#LLL#.LL#L#LL.L#.LLLLLL..#.LL#LLL.L#L#L.#L#L#L#L#LL#L.L#.LLL#L#LL#LLLL#L#.LLLL#L#.LL#L#L#.L#LL#',\n",
       " '#LL#LL.#LL#L#L#LL.#.L#L#.LLL#LLL#L.#L#L##L#L#.LL#L##LLLLLL#L#LL#L#LL#L#LL..#L#LLLL.L#L#L#L.LLL#L',\n",
       " 'L#LL#L.L#L.LL#L##LL#LL#L.#L#L#L#L#.LLLLL.LLLL.#LLLLL.#L.#.L#LL#LLL#.LLL#LL.L#LL#L#L#LLLLLL.#L#L#',\n",
       " '#L#LL#.LLLL.LLLLL.#L#LLL.L#L#LLLL.#L#L##.L#L#.L#L###.L##L.L#L#L#L#L.#L#LL#.LLL#LL#.LL#L#L#.LLL#L',\n",
       " 'L#LLLL.##L#.L#L#L.L#LL#L.LLLLL#LLL.LL#LLL#L#L.#LLLLL#LLL#.#LLL#L#LL#L#LL#L.L.#LL#L.L#L#L#L.L#LL#',\n",
       " '..L..#..L.#..L#...L.L....#..L.L..#..........LL.....#.#..L...#......L...LL......#L...L..LL.#....L',\n",
       " '#L#L#L.#L#L#LLLL#.LL#LL#.L#L.#L##LL#LL#L#L#L#.LL#L#L.LL#L.L#L#L#LL#.#L#LL#.#.LLLLL.#L#L#L#L#L#L#',\n",
       " 'L#L#LL.L#.L.#L#LL.#LL#LLLLL#LL#LLL.L#LL#.#L#L#L#LLLL.L#LL##LLL#LL#LLL#LL#LLL#L#L#L.L#L#L#L.LLL#L',\n",
       " '#L#LL#.LLL#..LL#L#L.#.L#L#LL#LLL#L.#L#LLLLLLLL#L#L#L.#LL#.LL#LLL#LL#LLL#LL.#L#L#L#.LLLLLLL.LL#L#',\n",
       " 'L#LLLL.#L#L.L.#L#.L#LL#L.#L#LL#LL#.LL.L#.L#L.LLLL#L#.LL#L.##L##LL##L##LL#L.LLLLLLLL#L.#L#L#L#L#L',\n",
       " '...#L...#.LLL#L.LL.L#....L..#.L..L.......#..L#.L.L..L......L...#L....#L#L.#L.#L#..L..#L#L...L...',\n",
       " '#L#L##.LLL##LLL#LL#LL#.L.#.LL#L#L#.L#L#L.L.#LL#L#LL#..L#LL#LLLL#LLL#LLL#LL##L#LL#L#L#LLLLLL#L#L#',\n",
       " 'L#L#LL#L#L#.L##L#.L#LLL##L#L#LLL#L.#L#LLLLLL#LL#L##L.#LL#LLL#L#L#L#L#L#LL#.L#L##L#LL#L#LL#.L#L#L',\n",
       " '#L#LLL.#L#L.#LL#LLLL#L#L.LL#L#L#LL#LLLL#.##LL.#LLLLL.L#LL#L#L#L#LLL.L#L#LLLLL#LLLLL#LLL#LL.#LLL#',\n",
       " '#LLLL#.LL#L.LL#LL.#L#L##.L#LLLLL#L#L###L#LL#L.L##L#L.#LL#.LL#LLLL#L.LLLLL#.#LLL#L#LLL#LL.L#L#LL#',\n",
       " 'L#LL#L#.LLL.#LLL#.LLLLL#.LLLL#L#L#.LL#LL.#LL#.LLL#L#.LL#L.#LL.L#.L#LL#L#LL#L#L#L#L.#LL#L#L.#LL#L',\n",
       " '#L#L.#.L#L#LL#L#L.#L#L#LLL#L#L#LLLL.#LL#LLL#L.L#LLLL.L#L#.L#L#LL#.L.#L#L#L.#LLL#LL#L#LL#L#LLL#L#',\n",
       " 'L#L#L..#L#L.#L#LL#L#L#LL.#L#LLLLL#.LL##L.#LLL.LL#.L#.LLLLLLLLL#LL#L#LLLLL#.LL#LL##.LLL#LLL.#LL#L',\n",
       " '#LLL#L.LLL#LLLLL#.LLLLL#LLLL#L#L#L#L#LL#.L#L###LL.#L.L#L#.#L#LL#LLL.#L#L#LL#LL#LLL.L#LL#L#.L#LL#',\n",
       " 'L#.#LL.L#L..L#L#L.LL#L#L.#L#L#L#LLLLL#LL.#L#L.L#L#LL.#L#L#LLL#LLL#L.L#LLL#.L#LL#L#.LL#LL#L#LL#LL',\n",
       " '.....#...LL...#L...#..L..L.LL.L.##....L....L....L.#...L...L#.LL...#..L.#.L..L..LL.L#.L#..L.....#',\n",
       " '#L#L#L.#L#L.#LL#LL#LLLL#LL#L#L#LLL.##L##.LLL#LLLLLLL#L#L#LLLL####LL.#L#L##.LL#LL#L.LLLL#LL.#LL#L',\n",
       " 'L#LLL#.L#LL#LL#L#.LL.#L#.#L#L#LLL##LLLLL.#L#L.##L#L#.LL#L.#L.LLLL##.LLL#LLL#LL#LL#.L#L#LL#.LL#L#',\n",
       " '#L#L#L.#L.#.L#LLL.#L#L#L#LLLLL#L#L.#LL#L.LLLL#LL#L#L.#LLL#L#LL#LLLL.#LLLL#LL#.L#L.#LL#L##L.#LL#L',\n",
       " 'L#.L.#LLLLL.LLLL#.L#LLLL.L#L#LLLL#.L##L#.L#L#.LLLLL#.LL#L.LLL#L##L#.L#L#LL#LLLLLLL.#LL#LLL.L#LL#',\n",
       " '#LL#LL.#L#L.#LL#L#LLL#L#L#L#L#L#LL.#LLL..#LLLL#L#L#LL#LL#L.#LL#LLLL.LL#L#L.#L#L#L#.LL#LL#L.LLL#L',\n",
       " 'LL#L.#.L#L#.L#LL#.LL#L#LLLLL#L#L##.LLL#L.LL#L.L#L#L#.L#LL.#L#LL#L#L.#LLLLL.LLL#L#LL#LL#LL#L#L#L#',\n",
       " '.#...L.....L..#...L#L.....L#.........L.......#...........LLL.........L...#..L.LLL#L.#.L#....L.#L',\n",
       " '#LLL#L.#L.#.LLLLL.LL#LL.##LLLLLLLLL###LL.##L#L#L#L#L#L.#L.#LL#LL#L#.L##L#L.#L#LL#LLLLLLLLL.L#LL#',\n",
       " 'LL#.L#.LLLL.L#L#LL#LLL##.L#L#L#LL#.LLLL##LLLL.L#L#L#.LLLL#L#LLL#LLLL#LL#L#.L#L##L#.#L#L#L#.L#L#L',\n",
       " '#.L#LLL#L#L.#L#L##L#L#LL.#L#L#L##L.L#L#L.L#LL.LLLLLL.#L#L.#LL#LL#L#.LL#LLLLLL#.LLL.L#L#L#L.#L#L#',\n",
       " 'L#LL##.L#L#.LLLLL.#LLLL#.LL.LLLLLL.#L#LL.#LL#L##L#L#.L#L#LLL#L#LL#L.#LL#L#.L#LL#L#.LLLLLL#.LLL#L',\n",
       " '#LL#LL.LLLL#LL#L#.LL#L#L.L#L#L#L##.LLLL#..L#L#LL#L#L.LLLL.#LL#LL#LL#L#LL#L#LL#LL#L#L#L#L#LL#LLL#',\n",
       " 'L#LLL#.L#L#LL#L#LLL#L#LL.#L#L#L#LL.##L#LLLLLLLLLL#LL.#L#L.L#LL#LL#LLLL#LLL.#LL#LLL.#L#L#L#.L#L#L',\n",
       " '#L#L..#L....L.L..#........L..L...#.L.#....LL#.L#L.L.....#.....L#L..#..L.........#.L....L....L#..',\n",
       " 'L#L.#L#LL#L.#L#L#L#LL.LL.L#L#L#L#L.#L#LL####L.LL#L##.L#LL.L.#LLLLLLL#LL#LL.LLLL#LL.L#L#L#L#LLLL#',\n",
       " '#LL#LL.#LL#LLLLLL..L#L#L.#L#LLLLLL#L#L#L.LLLL.#LL#LLLL.#L#LLL#L#LL#.L#LL.#L#LL#L#L#LL#LLL#L#L.#L',\n",
       " 'L#LLL#.L#LL.L#L#L#L#L#L#LL#LL#L#L#LLL#LL.L#L#.L#LLL#L#LLLL#LLL#L#LL.LL#L#L.L#LL#LLL#LLL#LL.L##L#',\n",
       " '#L#L#L.#L#L.#L#L#.LL#LLL#LLL#L#L#L.L#LL#L#L#L.LL#L#L#L#L#.L.#LLLL#L.#L#LLL.LL#LL##.L#L#L#L.LLL#L',\n",
       " 'L#.LLLLL..#.LL...L.LL....#LL..LL...#.......L.#....LL.#.L...#L.#...LLL.L##...L..#.L.#.LL....#..L#',\n",
       " '#LL#L#L#LLL.#LL#L.#L##L#.L#LL#L#L#.LLLLL.LL##L#LL#L#.LL#L#LLL#L#LL#.L#LLL#.L#L#LL#.LL#L#L#LL#L#L',\n",
       " 'L##L#L#L#L##L#LL#.L#LL#LL#LL#L#L#L#L#L#L.#L#L.L##L#L.#LL#L#L#LLLL#L.#L#L#L##L#L#LL.#LL#L#L#LLLL#',\n",
       " '#LL#LL.#L#LL#LL#L.LL#.LL#LL#LLL#LLL#L#L#.L#L..LLLLLL.L#LL#LLL#L#LL#.L#LLL#.LLLLL#LL.#LLLL#.L#L#L',\n",
       " 'L#LLL#LLLLL#LL#LL#L#LL#LL#LLL#LLL#..LL#L#LLL#LL#L#L#LLLL#.L#LL#L#LL.#LL#LL.#L#L#LL.LL#L#LLL#L#L#',\n",
       " '#L#L#L#LL#L.#LLL#L#LL#L#.L#L#L#L#L#LL#LL.LL#L.#L#LLL.L#LL.#L#LLLL#L#LL#L#..L#L#L#L.#LLLL#L.L#LLL',\n",
       " '...#L....L...L#.L.....L.#..L.L..L.L#.L........LL..#...L#.L..L...#.L.##..LLLLL.L..#L..#.....L.L#.',\n",
       " 'L#LL##LL#L#.L#L#L.LLLL#L.LLLL#L#LL#LL#L#.L#LL.#LL#L#.LLL#.LL##L#LLLLLLL#L#L#L#LLLL#L#L#LLL.#L#L#',\n",
       " '#L##LLL#LLL.LLLL#L#L#LL..#L#LL#L##.L#L#L.#L##.LL#LLL.#LLL.##LL#L#L#.L#LL#L#L#L#L#L.LL.L#L#.L#L#L',\n",
       " 'L#.LL#.LL#L.#L#LL.L#L#L#.L#L#.LLLL.#LLLLLL#LLL##L##L#L#L#.LL#LLLL#L.#L#LL#LLLLLL.#L#LL#.LL.LLLL#',\n",
       " '#LLL#L.L#L#.L#L#L.LL#L#L.LLLL#L#L#LLL#L#.L.LL.LL#LLLLLL#L##LLL#L#LL#LLL#.LL#L#L#LL.L#LLL#LL##L#L',\n",
       " 'LL#LL#.LL#L.LL#L#.L#LLLL.L#L#LLL#L#L#L#LL#L#L##LL#L#.LLL#LL#LLL#L#L.#L#LL#.L#L#L#L.LL#L#L#..L#L#',\n",
       " '#.L#.......L#L....#L.L#.L#.L..#.L..#L.L.#L..#LL.L...#..L.....#...LLL.#L.#L#...L..#..............',\n",
       " 'L#LL#L#L#L#.L#L#LLL#L#L#.LL#L#L#L#LLLL##LLLLL.##LL#L.##L#.LL#L#L#L#LLL.#LLL#L#LLLLL#LLLLLL.L#L#L',\n",
       " '#LL#LL.#L#L#LL#LL#LLLL#L#L#LLLLLLL.#L#LL.#L#L.L.#.L#.LL#L.#LLLLLL#L#L#LLL#.LLL#L#L#L..#L#L.LLLL#',\n",
       " 'L#LLL#.LLLL#L#LL#LL#L#LL.LLLL#L#L#.L#LL#.L#L#.LLL#LL.L#LL.L#L#L#LLL.LL#L#L.##LL#L#.L#.L#L#.L#L#L',\n",
       " '#L#L#L.L#L#.LLL#L.#L#L.L.L#L#L#L#L.LLL#L#LLLL.###LL#.LL#L#LL#L#L#L#L#LL#L#.LL#LLLL.#L#LLLL##L#L#',\n",
       " 'L#LLLLL#LLL.L#LLL#LLLLL#L#LLLLLLLL.#L#LLLL#L#.L#LL#L.#LLL.#LLLLLL#L.L#LLLL.#LLL#L#LLLLL#L#LLLLLL',\n",
       " '#LL#L#.LL#LL#LL#..LL#L#L#LL#L#L#L#.LLL#L.#L#L.#L#LL#.LL#L.L#L#L#L.L.#LL#L#.L#L#L#L#L#L#L#L.#L#L#',\n",
       " 'L#LL#L.##L##LL#L#L##L#LL.L#L#L#L#L.L#.L#LL#LLLLLL#LL.##L#.LL#L#L#L#..L#L#L#LL#L#LL.#L#L#LL.L#L#L',\n",
       " '#L#LLL#LLLL.#LLLL.LLLLLL.LLLLLLLLLL#.LLL#LL#L.#LLLL#.LLLLL#LLLLLLLL#LLLLLL.LLLLLL#.LLLLLL#.LLLL#',\n",
       " 'L#LL#L.L#L#.L#L#L#L#L#L#L#L#L#L#L#.LL#L#.L#LL#LL#L#L.#L#..L.#L#L#L..L#L#L#.L#L#L#L.#L#L#LL#L#L#L',\n",
       " '#.L#L#L#L#L.#L#L#L#L#L#L#L#L#L#L#L#L#L#L.#L.#.L#L#L#.L#L#.L#L#L#L#L.#L#L#L.#L#L#L#.L#L#L#L.#L#L#']"
      ]
     },
     "execution_count": 48,
     "metadata": {},
     "output_type": "execute_result"
    }
   ],
   "source": [
    "steady_state"
   ]
  },
  {
   "cell_type": "code",
   "execution_count": null,
   "metadata": {},
   "outputs": [],
   "source": []
  },
  {
   "cell_type": "code",
   "execution_count": null,
   "metadata": {},
   "outputs": [],
   "source": []
  },
  {
   "cell_type": "code",
   "execution_count": null,
   "metadata": {},
   "outputs": [],
   "source": []
  },
  {
   "cell_type": "code",
   "execution_count": null,
   "metadata": {},
   "outputs": [],
   "source": []
  }
 ],
 "metadata": {
  "kernelspec": {
   "display_name": "Python 3",
   "language": "python",
   "name": "python3"
  },
  "language_info": {
   "codemirror_mode": {
    "name": "ipython",
    "version": 3
   },
   "file_extension": ".py",
   "mimetype": "text/x-python",
   "name": "python",
   "nbconvert_exporter": "python",
   "pygments_lexer": "ipython3",
   "version": "3.6.0"
  }
 },
 "nbformat": 4,
 "nbformat_minor": 2
}
