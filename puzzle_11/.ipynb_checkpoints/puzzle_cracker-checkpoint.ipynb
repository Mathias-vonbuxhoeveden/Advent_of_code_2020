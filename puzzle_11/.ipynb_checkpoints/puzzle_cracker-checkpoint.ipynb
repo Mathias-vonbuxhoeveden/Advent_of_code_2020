{
 "cells": [
  {
   "cell_type": "code",
   "execution_count": 415,
   "metadata": {},
   "outputs": [],
   "source": [
    "import pandas as pd\n",
    "import numpy as np"
   ]
  },
  {
   "cell_type": "code",
   "execution_count": 416,
   "metadata": {},
   "outputs": [],
   "source": [
    "def load_data():\n",
    "    \n",
    "    df = pd.read_csv('input_data.csv', header = None)\n",
    "    df.columns = ['data']\n",
    "    df = df.data.tolist()\n",
    "    \n",
    "    return df  "
   ]
  },
  {
   "cell_type": "code",
   "execution_count": 417,
   "metadata": {},
   "outputs": [],
   "source": [
    "def check_if_spot_is_occupied(row_position, column_position, input_data):\n",
    "    \n",
    "    \"\"\"\n",
    "    Function takes as input row and column position and checks if that seat on\n",
    "    the input data is occupied. Returns 1 if it is occupied, 0 otherwise.\n",
    "    \n",
    "    \"\"\"\n",
    "    \n",
    "    if input_data[row_position][column_position] == \"#\":\n",
    "        \n",
    "        return 1\n",
    "    \n",
    "    else:\n",
    "        \n",
    "        return 0"
   ]
  },
  {
   "cell_type": "code",
   "execution_count": 418,
   "metadata": {},
   "outputs": [],
   "source": [
    "def check_if_seat_exists(row_position, column_position, input_data):\n",
    "    \n",
    "    \n",
    "    \"\"\"Function takes as input row and column position and checks if that seat exists\n",
    "       on input data. Returns 1 if it is occupied, 0 otherwise.\"\"\"\n",
    "    \n",
    "    if row_position < 0:\n",
    "        \n",
    "        return 0\n",
    "    \n",
    "    elif row_position >= len(input_data):\n",
    "        \n",
    "        return 0\n",
    "    \n",
    "    elif column_position < 0:\n",
    "        \n",
    "        return 0\n",
    "    \n",
    "    elif column_position >= (len(input_data[0])):\n",
    "        \n",
    "        return 0\n",
    "    \n",
    "    else:\n",
    "        \n",
    "        return 1  "
   ]
  },
  {
   "cell_type": "code",
   "execution_count": 419,
   "metadata": {},
   "outputs": [],
   "source": [
    "def check_if_floor(row_position, column_position, input_data):\n",
    "    \n",
    "    if input_data[row_position][column_position] == '.':\n",
    "        \n",
    "        return 1\n",
    "    \n",
    "    else:\n",
    "        \n",
    "        return 0"
   ]
  },
  {
   "cell_type": "code",
   "execution_count": 420,
   "metadata": {},
   "outputs": [],
   "source": [
    "def check_number_of_occupied_adjacent_seats(row_position, column_position, input_data):\n",
    "    \n",
    "    \"\"\"\n",
    "    Function takes as input row_position and column_position and return a count\n",
    "    on the number of occupied adjact seats\n",
    "    \n",
    "    \"\"\"\n",
    "    \n",
    "    seat_left = (row_position, column_position - 1)\n",
    "    seat_right = (row_position, column_position + 1)\n",
    "    seat_below = (row_position + 1, column_position)\n",
    "    seat_above = (row_position - 1, column_position)\n",
    "    seat_above_left = (row_position -1, column_position - 1)\n",
    "    seat_above_right = (row_position -1, column_position + 1)\n",
    "    seat_below_left =  (row_position +1, column_position - 1)\n",
    "    seat_below_right = (row_position +1, column_position + 1)\n",
    "    \n",
    "    adjacent_seats = [seat_left, seat_right, seat_below, seat_above,seat_above_left, seat_below_left, seat_below_right]\n",
    "    number_of_occupied_seats = []\n",
    "    \n",
    "    for seats in adjacent_seats:\n",
    "        \n",
    "        row_number, column_number = seats\n",
    "        seat_exist = check_if_seat_exists(row_number,column_number,input_data)\n",
    "            \n",
    "        if seat_exist == 0:\n",
    "                \n",
    "            number_of_occupied_seats.append(0)\n",
    "\n",
    "        else:\n",
    "                \n",
    "            number_of_occupied_seats.append(check_if_spot_is_occupied(row_number, column_number, input_data))\n",
    "    \n",
    "        \n",
    "    return np.sum(number_of_occupied_seats)"
   ]
  },
  {
   "cell_type": "code",
   "execution_count": 421,
   "metadata": {},
   "outputs": [],
   "source": [
    "def convert_seat(number_of_adjacted_occupied, seat_is_occupied, is_floor, seat):\n",
    "    \n",
    "    \n",
    "    if (seat_is_occupied == 0) & (number_of_adjacted_occupied == 0) & (is_floor == 0):\n",
    "        \n",
    "        return \"#\"\n",
    "    \n",
    "    elif (seat_is_occupied == 1) & (number_of_adjacted_occupied >= 4):\n",
    "        \n",
    "        return \"L\"\n",
    "    \n",
    "    elif is_floor == 1:\n",
    "        \n",
    "        return '.'\n",
    "    \n",
    "    else: \n",
    "        \n",
    "        return seat"
   ]
  },
  {
   "cell_type": "code",
   "execution_count": 422,
   "metadata": {},
   "outputs": [],
   "source": [
    "def get_new_arrangment(input_data, number_of_rows, number_of_cols):\n",
    "    \n",
    "    new_arrangment = []\n",
    "    \n",
    "    for row in range(number_of_rows):\n",
    "        \n",
    "        new_row = \"\"\n",
    "        \n",
    "        for col in range(number_of_cols):\n",
    "            \n",
    "            number_of_adjacted_occupied = check_number_of_occupied_adjacent_seats(row, col, input_data)\n",
    "            seat_is_occupied = check_if_spot_is_occupied(row,col,input_data)\n",
    "            is_floor = check_if_floor(row, col, input_data)\n",
    "            new_seat = convert_seat(number_of_adjacted_occupied, seat_is_occupied, is_floor, input_data[row][col])\n",
    "            new_row = new_row + new_seat\n",
    "            \n",
    "        new_arrangment.append(new_row)\n",
    "        \n",
    "    return new_arrangment"
   ]
  },
  {
   "cell_type": "code",
   "execution_count": 423,
   "metadata": {},
   "outputs": [],
   "source": [
    "def find_steady_state(df, number_of_rows, number_of_cols):  \n",
    "    \n",
    "      \n",
    "    new_arrangment = get_new_arrangment(input_data = df, number_of_rows = number_of_rows, number_of_cols = number_of_cols)\n",
    "\n",
    "    if df == new_arrangment:\n",
    "        \n",
    "        return new_arrangment\n",
    "    \n",
    "    return find_steady_state(new_arrangment, number_of_rows, number_of_cols)  "
   ]
  },
  {
   "cell_type": "code",
   "execution_count": 424,
   "metadata": {},
   "outputs": [],
   "source": [
    "df = load_data()"
   ]
  },
  {
   "cell_type": "code",
   "execution_count": 425,
   "metadata": {},
   "outputs": [],
   "source": [
    "number_of_rows = len(df)"
   ]
  },
  {
   "cell_type": "code",
   "execution_count": 426,
   "metadata": {},
   "outputs": [],
   "source": [
    "number_of_cols = len(df[0])"
   ]
  },
  {
   "cell_type": "code",
   "execution_count": 427,
   "metadata": {},
   "outputs": [],
   "source": [
    "steady_state = find_steady_state(df, number_of_rows, number_of_cols)"
   ]
  },
  {
   "cell_type": "code",
   "execution_count": 428,
   "metadata": {},
   "outputs": [],
   "source": [
    "occupied_seats = []\n",
    "\n",
    "\n",
    "for row in range(number_of_rows):        \n",
    "       \n",
    "    for col in range(number_of_cols):\n",
    "        \n",
    "        if steady_state[row][col] == '#':\n",
    "            \n",
    "            occupied_seats.append(1)\n",
    "            \n",
    "        else:\n",
    "            \n",
    "            occupied_seats.append(0)\n",
    "            "
   ]
  },
  {
   "cell_type": "code",
   "execution_count": 429,
   "metadata": {},
   "outputs": [
    {
     "name": "stdout",
     "output_type": "stream",
     "text": [
      "There are 2671 occupied seats in steady state\n"
     ]
    }
   ],
   "source": [
    "print(\"There are {} occupied seats in steady state\".format(np.sum(occupied_seats)))"
   ]
  }
 ],
 "metadata": {
  "kernelspec": {
   "display_name": "Python 3",
   "language": "python",
   "name": "python3"
  },
  "language_info": {
   "codemirror_mode": {
    "name": "ipython",
    "version": 3
   },
   "file_extension": ".py",
   "mimetype": "text/x-python",
   "name": "python",
   "nbconvert_exporter": "python",
   "pygments_lexer": "ipython3",
   "version": "3.6.0"
  }
 },
 "nbformat": 4,
 "nbformat_minor": 2
}
