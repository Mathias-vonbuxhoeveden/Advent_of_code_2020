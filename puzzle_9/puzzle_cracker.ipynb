{
 "cells": [
  {
   "cell_type": "code",
   "execution_count": 81,
   "metadata": {},
   "outputs": [],
   "source": [
    "import pandas as pd"
   ]
  },
  {
   "cell_type": "code",
   "execution_count": null,
   "metadata": {},
   "outputs": [],
   "source": [
    "#Part 1"
   ]
  },
  {
   "cell_type": "code",
   "execution_count": 82,
   "metadata": {},
   "outputs": [],
   "source": [
    "def load_input_data():\n",
    "    \n",
    "    df = pd.read_csv('input_data.csv', header = None)\n",
    "    df.columns = ['data']\n",
    "    df = df.data.tolist()\n",
    "    \n",
    "    return df    "
   ]
  },
  {
   "cell_type": "code",
   "execution_count": 83,
   "metadata": {},
   "outputs": [],
   "source": [
    "def find_first_number(input_data, preamble_start):\n",
    "    \n",
    "    \"\"\"Function takes as input a list of numbers and \n",
    "    return first number that is not the sum of 2 (unique) \n",
    "    previous numbers in list.\"\"\"\n",
    "    \n",
    "    preamble = df[0:preamble_start]\n",
    "    target_number = df[preamble_start]\n",
    "    \n",
    "    possible_sums = []\n",
    "    \n",
    "    for i in preamble:\n",
    "        \n",
    "        for j in preamble:\n",
    "            \n",
    "            if i != j:\n",
    "                \n",
    "                possible_sums.append(i + j)\n",
    "                \n",
    "            else:\n",
    "                \n",
    "                pass\n",
    "\n",
    "    if target_number in possible_sums:\n",
    "        \n",
    "        preamble_start += 1\n",
    "    \n",
    "    else:\n",
    "        \n",
    "        return target_number\n",
    "    \n",
    "    \n",
    "    return find_first_number(input_data, preamble_start)"
   ]
  },
  {
   "cell_type": "code",
   "execution_count": 84,
   "metadata": {},
   "outputs": [],
   "source": [
    "df = load_input_data()"
   ]
  },
  {
   "cell_type": "code",
   "execution_count": 85,
   "metadata": {},
   "outputs": [],
   "source": [
    "first_number = find_first_number(input_data = df, preamble_start = 25)"
   ]
  },
  {
   "cell_type": "code",
   "execution_count": 86,
   "metadata": {},
   "outputs": [
    {
     "name": "stdout",
     "output_type": "stream",
     "text": [
      "The first number that violated the specified conditions is: 3199139634\n"
     ]
    }
   ],
   "source": [
    "print(\"The first number that violated the specified conditions is: {}\".format(first_number))"
   ]
  },
  {
   "cell_type": "code",
   "execution_count": null,
   "metadata": {},
   "outputs": [],
   "source": [
    "#Part 2"
   ]
  },
  {
   "cell_type": "code",
   "execution_count": 107,
   "metadata": {},
   "outputs": [],
   "source": [
    "def find_sum_of_largest_and_smallest_values(input_data, start_position, target_number):\n",
    "    \n",
    "    \"\"\"This function takes as input a list of integers, a start position and \n",
    "    the target_number. It then finds the contiguous set of numbers that sums to \n",
    "    target_data, and returns the sum of the largest and smallest value in the \n",
    "    contiguous set.   \n",
    "    \"\"\"\n",
    "    \n",
    "    for x in range(len(input_data)):   \n",
    "        \n",
    "        if sum(input_data[start_position:x]) == target_number:\n",
    "            \n",
    "            return min(input_data[start_position:x]) + max(input_data[start_position:x])\n",
    "        \n",
    "    start_position += 1\n",
    "    \n",
    "    return find_sum_of_largest_and_smallest_values(input_data, start_position, target_number)"
   ]
  },
  {
   "cell_type": "code",
   "execution_count": 109,
   "metadata": {},
   "outputs": [],
   "source": [
    "target_sum = find_sum_of_largest_and_smallest_values(input_data = df, start_position = 0, target_number = first_number)"
   ]
  },
  {
   "cell_type": "code",
   "execution_count": 110,
   "metadata": {},
   "outputs": [
    {
     "data": {
      "text/plain": [
       "438559930"
      ]
     },
     "execution_count": 110,
     "metadata": {},
     "output_type": "execute_result"
    }
   ],
   "source": [
    "target_sum"
   ]
  }
 ],
 "metadata": {
  "kernelspec": {
   "display_name": "Python 3",
   "language": "python",
   "name": "python3"
  },
  "language_info": {
   "codemirror_mode": {
    "name": "ipython",
    "version": 3
   },
   "file_extension": ".py",
   "mimetype": "text/x-python",
   "name": "python",
   "nbconvert_exporter": "python",
   "pygments_lexer": "ipython3",
   "version": "3.6.0"
  }
 },
 "nbformat": 4,
 "nbformat_minor": 2
}
